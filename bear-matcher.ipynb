{
 "cells": [
  {
   "cell_type": "markdown",
   "id": "5daf376b",
   "metadata": {},
   "source": [
    "The Bear Matcher\n",
    "==============\n",
    "It matches bears. Upload an image of a bear and it will tell you if it's a grizzly, a black bear, or a teddy bear. If it's none of these, it will find the 'closest' label for it. :)"
   ]
  },
  {
   "cell_type": "code",
   "execution_count": 73,
   "id": "58038f80",
   "metadata": {},
   "outputs": [
    {
     "name": "stdout",
     "output_type": "stream",
     "text": [
      "Requirement already satisfied: fastbook in /Users/imf/opt/anaconda3/lib/python3.9/site-packages (0.0.29)\n",
      "Requirement already satisfied: fastai in /Users/imf/opt/anaconda3/lib/python3.9/site-packages (2.7.12)\n",
      "Requirement already satisfied: ipywidgets<8 in /Users/imf/opt/anaconda3/lib/python3.9/site-packages (from fastbook) (7.6.5)\n",
      "Requirement already satisfied: pip in /Users/imf/opt/anaconda3/lib/python3.9/site-packages (from fastbook) (22.2.2)\n",
      "Requirement already satisfied: pandas in /Users/imf/opt/anaconda3/lib/python3.9/site-packages (from fastbook) (1.4.4)\n",
      "Requirement already satisfied: datasets in /Users/imf/opt/anaconda3/lib/python3.9/site-packages (from fastbook) (2.12.0)\n",
      "Requirement already satisfied: sentencepiece in /Users/imf/opt/anaconda3/lib/python3.9/site-packages (from fastbook) (0.1.97)\n",
      "Requirement already satisfied: graphviz in /Users/imf/opt/anaconda3/lib/python3.9/site-packages (from fastbook) (0.20.1)\n",
      "Requirement already satisfied: requests in /Users/imf/opt/anaconda3/lib/python3.9/site-packages (from fastbook) (2.31.0)\n",
      "Requirement already satisfied: transformers in /Users/imf/opt/anaconda3/lib/python3.9/site-packages (from fastbook) (4.28.1)\n",
      "Requirement already satisfied: packaging in /Users/imf/opt/anaconda3/lib/python3.9/site-packages (from fastbook) (21.3)\n",
      "Requirement already satisfied: scikit-learn in /Users/imf/opt/anaconda3/lib/python3.9/site-packages (from fastai) (1.1.1)\n",
      "Requirement already satisfied: spacy<4 in /Users/imf/opt/anaconda3/lib/python3.9/site-packages (from fastai) (3.5.3)\n",
      "Requirement already satisfied: fastdownload<2,>=0.0.5 in /Users/imf/opt/anaconda3/lib/python3.9/site-packages (from fastai) (0.0.7)\n",
      "Requirement already satisfied: fastcore<1.6,>=1.5.29 in /Users/imf/opt/anaconda3/lib/python3.9/site-packages (from fastai) (1.5.29)\n",
      "Requirement already satisfied: fastprogress>=0.2.4 in /Users/imf/opt/anaconda3/lib/python3.9/site-packages (from fastai) (1.0.3)\n",
      "Requirement already satisfied: scipy in /Users/imf/opt/anaconda3/lib/python3.9/site-packages (from fastai) (1.9.1)\n",
      "Requirement already satisfied: matplotlib in /Users/imf/opt/anaconda3/lib/python3.9/site-packages (from fastai) (3.5.2)\n",
      "Requirement already satisfied: torch<2.1,>=1.7 in /Users/imf/opt/anaconda3/lib/python3.9/site-packages (from fastai) (2.0.1)\n",
      "Requirement already satisfied: pillow>6.0.0 in /Users/imf/opt/anaconda3/lib/python3.9/site-packages (from fastai) (9.2.0)\n",
      "Requirement already satisfied: pyyaml in /Users/imf/opt/anaconda3/lib/python3.9/site-packages (from fastai) (6.0)\n",
      "Requirement already satisfied: torchvision>=0.8.2 in /Users/imf/opt/anaconda3/lib/python3.9/site-packages (from fastai) (0.15.2)\n",
      "Requirement already satisfied: nbformat>=4.2.0 in /Users/imf/opt/anaconda3/lib/python3.9/site-packages (from ipywidgets<8->fastbook) (5.5.0)\n",
      "Requirement already satisfied: widgetsnbextension~=3.5.0 in /Users/imf/opt/anaconda3/lib/python3.9/site-packages (from ipywidgets<8->fastbook) (3.5.2)\n",
      "Requirement already satisfied: jupyterlab-widgets>=1.0.0 in /Users/imf/opt/anaconda3/lib/python3.9/site-packages (from ipywidgets<8->fastbook) (1.0.0)\n",
      "Requirement already satisfied: ipykernel>=4.5.1 in /Users/imf/opt/anaconda3/lib/python3.9/site-packages (from ipywidgets<8->fastbook) (6.15.2)\n",
      "Requirement already satisfied: ipython-genutils~=0.2.0 in /Users/imf/opt/anaconda3/lib/python3.9/site-packages (from ipywidgets<8->fastbook) (0.2.0)\n",
      "Requirement already satisfied: ipython>=4.0.0 in /Users/imf/opt/anaconda3/lib/python3.9/site-packages (from ipywidgets<8->fastbook) (8.4.0)\n",
      "Requirement already satisfied: traitlets>=4.3.1 in /Users/imf/opt/anaconda3/lib/python3.9/site-packages (from ipywidgets<8->fastbook) (5.1.1)\n",
      "Requirement already satisfied: typer<0.8.0,>=0.3.0 in /Users/imf/opt/anaconda3/lib/python3.9/site-packages (from spacy<4->fastai) (0.7.0)\n",
      "Requirement already satisfied: cymem<2.1.0,>=2.0.2 in /Users/imf/opt/anaconda3/lib/python3.9/site-packages (from spacy<4->fastai) (2.0.7)\n",
      "Requirement already satisfied: setuptools in /Users/imf/opt/anaconda3/lib/python3.9/site-packages (from spacy<4->fastai) (63.4.1)\n",
      "Requirement already satisfied: jinja2 in /Users/imf/opt/anaconda3/lib/python3.9/site-packages (from spacy<4->fastai) (3.1.2)\n",
      "Requirement already satisfied: langcodes<4.0.0,>=3.2.0 in /Users/imf/opt/anaconda3/lib/python3.9/site-packages (from spacy<4->fastai) (3.3.0)\n",
      "Requirement already satisfied: numpy>=1.15.0 in /Users/imf/opt/anaconda3/lib/python3.9/site-packages (from spacy<4->fastai) (1.21.5)\n",
      "Requirement already satisfied: preshed<3.1.0,>=3.0.2 in /Users/imf/opt/anaconda3/lib/python3.9/site-packages (from spacy<4->fastai) (3.0.8)\n",
      "Requirement already satisfied: pathy>=0.10.0 in /Users/imf/opt/anaconda3/lib/python3.9/site-packages (from spacy<4->fastai) (0.10.1)\n",
      "Requirement already satisfied: wasabi<1.2.0,>=0.9.1 in /Users/imf/opt/anaconda3/lib/python3.9/site-packages (from spacy<4->fastai) (1.1.1)\n",
      "Requirement already satisfied: spacy-legacy<3.1.0,>=3.0.11 in /Users/imf/opt/anaconda3/lib/python3.9/site-packages (from spacy<4->fastai) (3.0.12)\n",
      "Requirement already satisfied: murmurhash<1.1.0,>=0.28.0 in /Users/imf/opt/anaconda3/lib/python3.9/site-packages (from spacy<4->fastai) (1.0.9)\n",
      "Requirement already satisfied: pydantic!=1.8,!=1.8.1,<1.11.0,>=1.7.4 in /Users/imf/opt/anaconda3/lib/python3.9/site-packages (from spacy<4->fastai) (1.10.7)\n",
      "Requirement already satisfied: catalogue<2.1.0,>=2.0.6 in /Users/imf/opt/anaconda3/lib/python3.9/site-packages (from spacy<4->fastai) (2.0.8)\n",
      "Requirement already satisfied: srsly<3.0.0,>=2.4.3 in /Users/imf/opt/anaconda3/lib/python3.9/site-packages (from spacy<4->fastai) (2.4.6)\n",
      "Requirement already satisfied: smart-open<7.0.0,>=5.2.1 in /Users/imf/opt/anaconda3/lib/python3.9/site-packages (from spacy<4->fastai) (5.2.1)\n",
      "Requirement already satisfied: tqdm<5.0.0,>=4.38.0 in /Users/imf/opt/anaconda3/lib/python3.9/site-packages (from spacy<4->fastai) (4.64.1)\n",
      "Requirement already satisfied: thinc<8.2.0,>=8.1.8 in /Users/imf/opt/anaconda3/lib/python3.9/site-packages (from spacy<4->fastai) (8.1.10)\n",
      "Requirement already satisfied: spacy-loggers<2.0.0,>=1.0.0 in /Users/imf/opt/anaconda3/lib/python3.9/site-packages (from spacy<4->fastai) (1.0.4)\n",
      "Requirement already satisfied: pyparsing!=3.0.5,>=2.0.2 in /Users/imf/opt/anaconda3/lib/python3.9/site-packages (from packaging->fastbook) (3.0.9)\n",
      "Requirement already satisfied: charset-normalizer<4,>=2 in /Users/imf/opt/anaconda3/lib/python3.9/site-packages (from requests->fastbook) (2.0.4)\n",
      "Requirement already satisfied: urllib3<3,>=1.21.1 in /Users/imf/opt/anaconda3/lib/python3.9/site-packages (from requests->fastbook) (1.26.11)\n",
      "Requirement already satisfied: certifi>=2017.4.17 in /Users/imf/opt/anaconda3/lib/python3.9/site-packages (from requests->fastbook) (2022.9.24)\n",
      "Requirement already satisfied: idna<4,>=2.5 in /Users/imf/opt/anaconda3/lib/python3.9/site-packages (from requests->fastbook) (3.3)\n",
      "Requirement already satisfied: filelock in /Users/imf/opt/anaconda3/lib/python3.9/site-packages (from torch<2.1,>=1.7->fastai) (3.6.0)\n",
      "Requirement already satisfied: typing-extensions in /Users/imf/opt/anaconda3/lib/python3.9/site-packages (from torch<2.1,>=1.7->fastai) (4.3.0)\n",
      "Requirement already satisfied: sympy in /Users/imf/opt/anaconda3/lib/python3.9/site-packages (from torch<2.1,>=1.7->fastai) (1.10.1)\n",
      "Requirement already satisfied: networkx in /Users/imf/opt/anaconda3/lib/python3.9/site-packages (from torch<2.1,>=1.7->fastai) (2.8.4)\n",
      "Requirement already satisfied: multiprocess in /Users/imf/opt/anaconda3/lib/python3.9/site-packages (from datasets->fastbook) (0.70.14)\n",
      "Requirement already satisfied: responses<0.19 in /Users/imf/opt/anaconda3/lib/python3.9/site-packages (from datasets->fastbook) (0.18.0)\n",
      "Requirement already satisfied: fsspec[http]>=2021.11.1 in /Users/imf/opt/anaconda3/lib/python3.9/site-packages (from datasets->fastbook) (2022.7.1)\n",
      "Requirement already satisfied: huggingface-hub<1.0.0,>=0.11.0 in /Users/imf/opt/anaconda3/lib/python3.9/site-packages (from datasets->fastbook) (0.14.1)\n",
      "Requirement already satisfied: pyarrow>=8.0.0 in /Users/imf/opt/anaconda3/lib/python3.9/site-packages (from datasets->fastbook) (12.0.0)\n",
      "Requirement already satisfied: xxhash in /Users/imf/opt/anaconda3/lib/python3.9/site-packages (from datasets->fastbook) (3.2.0)\n",
      "Requirement already satisfied: dill<0.3.7,>=0.3.0 in /Users/imf/opt/anaconda3/lib/python3.9/site-packages (from datasets->fastbook) (0.3.6)\n",
      "Requirement already satisfied: aiohttp in /Users/imf/opt/anaconda3/lib/python3.9/site-packages (from datasets->fastbook) (3.8.4)\n",
      "Requirement already satisfied: cycler>=0.10 in /Users/imf/opt/anaconda3/lib/python3.9/site-packages (from matplotlib->fastai) (0.11.0)\n",
      "Requirement already satisfied: python-dateutil>=2.7 in /Users/imf/opt/anaconda3/lib/python3.9/site-packages (from matplotlib->fastai) (2.8.2)\n",
      "Requirement already satisfied: kiwisolver>=1.0.1 in /Users/imf/opt/anaconda3/lib/python3.9/site-packages (from matplotlib->fastai) (1.4.2)\n",
      "Requirement already satisfied: fonttools>=4.22.0 in /Users/imf/opt/anaconda3/lib/python3.9/site-packages (from matplotlib->fastai) (4.25.0)\n",
      "Requirement already satisfied: pytz>=2020.1 in /Users/imf/opt/anaconda3/lib/python3.9/site-packages (from pandas->fastbook) (2022.1)\n",
      "Requirement already satisfied: joblib>=1.0.0 in /Users/imf/opt/anaconda3/lib/python3.9/site-packages (from scikit-learn->fastai) (1.1.0)\n",
      "Requirement already satisfied: threadpoolctl>=2.0.0 in /Users/imf/opt/anaconda3/lib/python3.9/site-packages (from scikit-learn->fastai) (2.2.0)\n"
     ]
    },
    {
     "name": "stdout",
     "output_type": "stream",
     "text": [
      "Requirement already satisfied: tokenizers!=0.11.3,<0.14,>=0.11.1 in /Users/imf/opt/anaconda3/lib/python3.9/site-packages (from transformers->fastbook) (0.13.3)\n",
      "Requirement already satisfied: regex!=2019.12.17 in /Users/imf/opt/anaconda3/lib/python3.9/site-packages (from transformers->fastbook) (2022.7.9)\n",
      "Requirement already satisfied: pyzmq>=17 in /Users/imf/opt/anaconda3/lib/python3.9/site-packages (from ipykernel>=4.5.1->ipywidgets<8->fastbook) (23.2.0)\n",
      "Requirement already satisfied: appnope in /Users/imf/opt/anaconda3/lib/python3.9/site-packages (from ipykernel>=4.5.1->ipywidgets<8->fastbook) (0.1.2)\n",
      "Requirement already satisfied: debugpy>=1.0 in /Users/imf/opt/anaconda3/lib/python3.9/site-packages (from ipykernel>=4.5.1->ipywidgets<8->fastbook) (1.5.1)\n",
      "Requirement already satisfied: jupyter-client>=6.1.12 in /Users/imf/opt/anaconda3/lib/python3.9/site-packages (from ipykernel>=4.5.1->ipywidgets<8->fastbook) (7.3.4)\n",
      "Requirement already satisfied: nest-asyncio in /Users/imf/opt/anaconda3/lib/python3.9/site-packages (from ipykernel>=4.5.1->ipywidgets<8->fastbook) (1.5.5)\n",
      "Requirement already satisfied: psutil in /Users/imf/opt/anaconda3/lib/python3.9/site-packages (from ipykernel>=4.5.1->ipywidgets<8->fastbook) (5.9.0)\n",
      "Requirement already satisfied: tornado>=6.1 in /Users/imf/opt/anaconda3/lib/python3.9/site-packages (from ipykernel>=4.5.1->ipywidgets<8->fastbook) (6.1)\n",
      "Requirement already satisfied: matplotlib-inline>=0.1 in /Users/imf/opt/anaconda3/lib/python3.9/site-packages (from ipykernel>=4.5.1->ipywidgets<8->fastbook) (0.1.6)\n",
      "Requirement already satisfied: stack-data in /Users/imf/opt/anaconda3/lib/python3.9/site-packages (from ipython>=4.0.0->ipywidgets<8->fastbook) (0.2.0)\n",
      "Requirement already satisfied: prompt-toolkit!=3.0.0,!=3.0.1,<3.1.0,>=2.0.0 in /Users/imf/opt/anaconda3/lib/python3.9/site-packages (from ipython>=4.0.0->ipywidgets<8->fastbook) (3.0.20)\n",
      "Requirement already satisfied: backcall in /Users/imf/opt/anaconda3/lib/python3.9/site-packages (from ipython>=4.0.0->ipywidgets<8->fastbook) (0.2.0)\n",
      "Requirement already satisfied: jedi>=0.16 in /Users/imf/opt/anaconda3/lib/python3.9/site-packages (from ipython>=4.0.0->ipywidgets<8->fastbook) (0.18.1)\n",
      "Requirement already satisfied: pickleshare in /Users/imf/opt/anaconda3/lib/python3.9/site-packages (from ipython>=4.0.0->ipywidgets<8->fastbook) (0.7.5)\n",
      "Requirement already satisfied: pexpect>4.3 in /Users/imf/opt/anaconda3/lib/python3.9/site-packages (from ipython>=4.0.0->ipywidgets<8->fastbook) (4.8.0)\n",
      "Requirement already satisfied: decorator in /Users/imf/opt/anaconda3/lib/python3.9/site-packages (from ipython>=4.0.0->ipywidgets<8->fastbook) (5.1.1)\n",
      "Requirement already satisfied: pygments>=2.4.0 in /Users/imf/opt/anaconda3/lib/python3.9/site-packages (from ipython>=4.0.0->ipywidgets<8->fastbook) (2.11.2)\n",
      "Requirement already satisfied: jsonschema>=2.6 in /Users/imf/opt/anaconda3/lib/python3.9/site-packages (from nbformat>=4.2.0->ipywidgets<8->fastbook) (4.16.0)\n",
      "Requirement already satisfied: fastjsonschema in /Users/imf/opt/anaconda3/lib/python3.9/site-packages (from nbformat>=4.2.0->ipywidgets<8->fastbook) (2.16.2)\n",
      "Requirement already satisfied: jupyter_core in /Users/imf/opt/anaconda3/lib/python3.9/site-packages (from nbformat>=4.2.0->ipywidgets<8->fastbook) (4.11.1)\n",
      "Requirement already satisfied: six>=1.5 in /Users/imf/opt/anaconda3/lib/python3.9/site-packages (from python-dateutil>=2.7->matplotlib->fastai) (1.16.0)\n",
      "Requirement already satisfied: confection<1.0.0,>=0.0.1 in /Users/imf/opt/anaconda3/lib/python3.9/site-packages (from thinc<8.2.0,>=8.1.8->spacy<4->fastai) (0.0.4)\n",
      "Requirement already satisfied: blis<0.8.0,>=0.7.8 in /Users/imf/opt/anaconda3/lib/python3.9/site-packages (from thinc<8.2.0,>=8.1.8->spacy<4->fastai) (0.7.9)\n",
      "Requirement already satisfied: click<9.0.0,>=7.1.1 in /Users/imf/opt/anaconda3/lib/python3.9/site-packages (from typer<0.8.0,>=0.3.0->spacy<4->fastai) (8.1.3)\n",
      "Requirement already satisfied: notebook>=4.4.1 in /Users/imf/opt/anaconda3/lib/python3.9/site-packages (from widgetsnbextension~=3.5.0->ipywidgets<8->fastbook) (6.4.12)\n",
      "Requirement already satisfied: aiosignal>=1.1.2 in /Users/imf/opt/anaconda3/lib/python3.9/site-packages (from aiohttp->datasets->fastbook) (1.3.1)\n",
      "Requirement already satisfied: attrs>=17.3.0 in /Users/imf/opt/anaconda3/lib/python3.9/site-packages (from aiohttp->datasets->fastbook) (21.4.0)\n",
      "Requirement already satisfied: multidict<7.0,>=4.5 in /Users/imf/opt/anaconda3/lib/python3.9/site-packages (from aiohttp->datasets->fastbook) (6.0.4)\n",
      "Requirement already satisfied: yarl<2.0,>=1.0 in /Users/imf/opt/anaconda3/lib/python3.9/site-packages (from aiohttp->datasets->fastbook) (1.8.2)\n",
      "Requirement already satisfied: frozenlist>=1.1.1 in /Users/imf/opt/anaconda3/lib/python3.9/site-packages (from aiohttp->datasets->fastbook) (1.3.3)\n",
      "Requirement already satisfied: async-timeout<5.0,>=4.0.0a3 in /Users/imf/opt/anaconda3/lib/python3.9/site-packages (from aiohttp->datasets->fastbook) (4.0.2)\n",
      "Requirement already satisfied: MarkupSafe>=2.0 in /Users/imf/opt/anaconda3/lib/python3.9/site-packages (from jinja2->spacy<4->fastai) (2.0.1)\n",
      "Requirement already satisfied: mpmath>=0.19 in /Users/imf/opt/anaconda3/lib/python3.9/site-packages (from sympy->torch<2.1,>=1.7->fastai) (1.2.1)\n",
      "Requirement already satisfied: parso<0.9.0,>=0.8.0 in /Users/imf/opt/anaconda3/lib/python3.9/site-packages (from jedi>=0.16->ipython>=4.0.0->ipywidgets<8->fastbook) (0.8.3)\n",
      "Requirement already satisfied: pyrsistent!=0.17.0,!=0.17.1,!=0.17.2,>=0.14.0 in /Users/imf/opt/anaconda3/lib/python3.9/site-packages (from jsonschema>=2.6->nbformat>=4.2.0->ipywidgets<8->fastbook) (0.18.0)\n",
      "Requirement already satisfied: entrypoints in /Users/imf/opt/anaconda3/lib/python3.9/site-packages (from jupyter-client>=6.1.12->ipykernel>=4.5.1->ipywidgets<8->fastbook) (0.4)\n",
      "Requirement already satisfied: argon2-cffi in /Users/imf/opt/anaconda3/lib/python3.9/site-packages (from notebook>=4.4.1->widgetsnbextension~=3.5.0->ipywidgets<8->fastbook) (21.3.0)\n",
      "Requirement already satisfied: terminado>=0.8.3 in /Users/imf/opt/anaconda3/lib/python3.9/site-packages (from notebook>=4.4.1->widgetsnbextension~=3.5.0->ipywidgets<8->fastbook) (0.13.1)\n",
      "Requirement already satisfied: prometheus-client in /Users/imf/opt/anaconda3/lib/python3.9/site-packages (from notebook>=4.4.1->widgetsnbextension~=3.5.0->ipywidgets<8->fastbook) (0.14.1)\n",
      "Requirement already satisfied: Send2Trash>=1.8.0 in /Users/imf/opt/anaconda3/lib/python3.9/site-packages (from notebook>=4.4.1->widgetsnbextension~=3.5.0->ipywidgets<8->fastbook) (1.8.0)\n",
      "Requirement already satisfied: nbconvert>=5 in /Users/imf/opt/anaconda3/lib/python3.9/site-packages (from notebook>=4.4.1->widgetsnbextension~=3.5.0->ipywidgets<8->fastbook) (7.4.0)\n",
      "Requirement already satisfied: ptyprocess>=0.5 in /Users/imf/opt/anaconda3/lib/python3.9/site-packages (from pexpect>4.3->ipython>=4.0.0->ipywidgets<8->fastbook) (0.7.0)\n",
      "Requirement already satisfied: wcwidth in /Users/imf/opt/anaconda3/lib/python3.9/site-packages (from prompt-toolkit!=3.0.0,!=3.0.1,<3.1.0,>=2.0.0->ipython>=4.0.0->ipywidgets<8->fastbook) (0.2.5)\n",
      "Requirement already satisfied: asttokens in /Users/imf/opt/anaconda3/lib/python3.9/site-packages (from stack-data->ipython>=4.0.0->ipywidgets<8->fastbook) (2.0.5)\n",
      "Requirement already satisfied: pure-eval in /Users/imf/opt/anaconda3/lib/python3.9/site-packages (from stack-data->ipython>=4.0.0->ipywidgets<8->fastbook) (0.2.2)\n",
      "Requirement already satisfied: executing in /Users/imf/opt/anaconda3/lib/python3.9/site-packages (from stack-data->ipython>=4.0.0->ipywidgets<8->fastbook) (0.8.3)\n",
      "Requirement already satisfied: tinycss2 in /Users/imf/opt/anaconda3/lib/python3.9/site-packages (from nbconvert>=5->notebook>=4.4.1->widgetsnbextension~=3.5.0->ipywidgets<8->fastbook) (1.2.1)\n",
      "Requirement already satisfied: defusedxml in /Users/imf/opt/anaconda3/lib/python3.9/site-packages (from nbconvert>=5->notebook>=4.4.1->widgetsnbextension~=3.5.0->ipywidgets<8->fastbook) (0.7.1)\n",
      "Requirement already satisfied: importlib-metadata>=3.6 in /Users/imf/opt/anaconda3/lib/python3.9/site-packages (from nbconvert>=5->notebook>=4.4.1->widgetsnbextension~=3.5.0->ipywidgets<8->fastbook) (4.11.3)\n",
      "Requirement already satisfied: pandocfilters>=1.4.1 in /Users/imf/opt/anaconda3/lib/python3.9/site-packages (from nbconvert>=5->notebook>=4.4.1->widgetsnbextension~=3.5.0->ipywidgets<8->fastbook) (1.5.0)\n",
      "Requirement already satisfied: mistune<3,>=2.0.3 in /Users/imf/opt/anaconda3/lib/python3.9/site-packages (from nbconvert>=5->notebook>=4.4.1->widgetsnbextension~=3.5.0->ipywidgets<8->fastbook) (2.0.5)\n",
      "Requirement already satisfied: jupyterlab-pygments in /Users/imf/opt/anaconda3/lib/python3.9/site-packages (from nbconvert>=5->notebook>=4.4.1->widgetsnbextension~=3.5.0->ipywidgets<8->fastbook) (0.1.2)\n",
      "Requirement already satisfied: beautifulsoup4 in /Users/imf/opt/anaconda3/lib/python3.9/site-packages (from nbconvert>=5->notebook>=4.4.1->widgetsnbextension~=3.5.0->ipywidgets<8->fastbook) (4.11.1)\n",
      "Requirement already satisfied: nbclient>=0.5.0 in /Users/imf/opt/anaconda3/lib/python3.9/site-packages (from nbconvert>=5->notebook>=4.4.1->widgetsnbextension~=3.5.0->ipywidgets<8->fastbook) (0.5.13)\n",
      "Requirement already satisfied: bleach in /Users/imf/opt/anaconda3/lib/python3.9/site-packages (from nbconvert>=5->notebook>=4.4.1->widgetsnbextension~=3.5.0->ipywidgets<8->fastbook) (4.1.0)\n"
     ]
    },
    {
     "name": "stdout",
     "output_type": "stream",
     "text": [
      "Requirement already satisfied: argon2-cffi-bindings in /Users/imf/opt/anaconda3/lib/python3.9/site-packages (from argon2-cffi->notebook>=4.4.1->widgetsnbextension~=3.5.0->ipywidgets<8->fastbook) (21.2.0)\n",
      "Requirement already satisfied: zipp>=0.5 in /Users/imf/opt/anaconda3/lib/python3.9/site-packages (from importlib-metadata>=3.6->nbconvert>=5->notebook>=4.4.1->widgetsnbextension~=3.5.0->ipywidgets<8->fastbook) (3.8.0)\n",
      "Requirement already satisfied: cffi>=1.0.1 in /Users/imf/opt/anaconda3/lib/python3.9/site-packages (from argon2-cffi-bindings->argon2-cffi->notebook>=4.4.1->widgetsnbextension~=3.5.0->ipywidgets<8->fastbook) (1.15.1)\n",
      "Requirement already satisfied: soupsieve>1.2 in /Users/imf/opt/anaconda3/lib/python3.9/site-packages (from beautifulsoup4->nbconvert>=5->notebook>=4.4.1->widgetsnbextension~=3.5.0->ipywidgets<8->fastbook) (2.3.1)\n",
      "Requirement already satisfied: webencodings in /Users/imf/opt/anaconda3/lib/python3.9/site-packages (from bleach->nbconvert>=5->notebook>=4.4.1->widgetsnbextension~=3.5.0->ipywidgets<8->fastbook) (0.5.1)\n",
      "Requirement already satisfied: pycparser in /Users/imf/opt/anaconda3/lib/python3.9/site-packages (from cffi>=1.0.1->argon2-cffi-bindings->argon2-cffi->notebook>=4.4.1->widgetsnbextension~=3.5.0->ipywidgets<8->fastbook) (2.21)\n",
      "Requirement already satisfied: voila in /Users/imf/opt/anaconda3/lib/python3.9/site-packages (0.4.0)\n",
      "Requirement already satisfied: jupyter-core>=4.11.0 in /Users/imf/opt/anaconda3/lib/python3.9/site-packages (from voila) (4.11.1)\n",
      "Requirement already satisfied: nbclient<0.8,>=0.4.0 in /Users/imf/opt/anaconda3/lib/python3.9/site-packages (from voila) (0.5.13)\n",
      "Requirement already satisfied: websockets>=9.0 in /Users/imf/opt/anaconda3/lib/python3.9/site-packages (from voila) (11.0.3)\n",
      "Requirement already satisfied: jupyterlab-server<3,>=2.3.0 in /Users/imf/opt/anaconda3/lib/python3.9/site-packages (from voila) (2.10.3)\n",
      "Requirement already satisfied: traitlets<6,>=5.0.3 in /Users/imf/opt/anaconda3/lib/python3.9/site-packages (from voila) (5.1.1)\n",
      "Requirement already satisfied: jupyter-server<2.0.0,>=1.18 in /Users/imf/opt/anaconda3/lib/python3.9/site-packages (from voila) (1.18.1)\n",
      "Requirement already satisfied: jupyter-client<=7.4.1,>=6.1.3 in /Users/imf/opt/anaconda3/lib/python3.9/site-packages (from voila) (7.3.4)\n",
      "Requirement already satisfied: nbconvert<8,>=6.4.5 in /Users/imf/opt/anaconda3/lib/python3.9/site-packages (from voila) (7.4.0)\n",
      "Requirement already satisfied: python-dateutil>=2.8.2 in /Users/imf/opt/anaconda3/lib/python3.9/site-packages (from jupyter-client<=7.4.1,>=6.1.3->voila) (2.8.2)\n",
      "Requirement already satisfied: entrypoints in /Users/imf/opt/anaconda3/lib/python3.9/site-packages (from jupyter-client<=7.4.1,>=6.1.3->voila) (0.4)\n",
      "Requirement already satisfied: pyzmq>=23.0 in /Users/imf/opt/anaconda3/lib/python3.9/site-packages (from jupyter-client<=7.4.1,>=6.1.3->voila) (23.2.0)\n",
      "Requirement already satisfied: nest-asyncio>=1.5.4 in /Users/imf/opt/anaconda3/lib/python3.9/site-packages (from jupyter-client<=7.4.1,>=6.1.3->voila) (1.5.5)\n",
      "Requirement already satisfied: tornado>=6.0 in /Users/imf/opt/anaconda3/lib/python3.9/site-packages (from jupyter-client<=7.4.1,>=6.1.3->voila) (6.1)\n",
      "Requirement already satisfied: packaging in /Users/imf/opt/anaconda3/lib/python3.9/site-packages (from jupyter-server<2.0.0,>=1.18->voila) (21.3)\n",
      "Requirement already satisfied: Send2Trash in /Users/imf/opt/anaconda3/lib/python3.9/site-packages (from jupyter-server<2.0.0,>=1.18->voila) (1.8.0)\n",
      "Requirement already satisfied: terminado>=0.8.3 in /Users/imf/opt/anaconda3/lib/python3.9/site-packages (from jupyter-server<2.0.0,>=1.18->voila) (0.13.1)\n",
      "Requirement already satisfied: websocket-client in /Users/imf/opt/anaconda3/lib/python3.9/site-packages (from jupyter-server<2.0.0,>=1.18->voila) (0.58.0)\n",
      "Requirement already satisfied: jinja2 in /Users/imf/opt/anaconda3/lib/python3.9/site-packages (from jupyter-server<2.0.0,>=1.18->voila) (3.1.2)\n",
      "Requirement already satisfied: argon2-cffi in /Users/imf/opt/anaconda3/lib/python3.9/site-packages (from jupyter-server<2.0.0,>=1.18->voila) (21.3.0)\n",
      "Requirement already satisfied: prometheus-client in /Users/imf/opt/anaconda3/lib/python3.9/site-packages (from jupyter-server<2.0.0,>=1.18->voila) (0.14.1)\n",
      "Requirement already satisfied: anyio<4,>=3.1.0 in /Users/imf/opt/anaconda3/lib/python3.9/site-packages (from jupyter-server<2.0.0,>=1.18->voila) (3.5.0)\n",
      "Requirement already satisfied: nbformat>=5.2.0 in /Users/imf/opt/anaconda3/lib/python3.9/site-packages (from jupyter-server<2.0.0,>=1.18->voila) (5.5.0)\n",
      "Requirement already satisfied: json5 in /Users/imf/opt/anaconda3/lib/python3.9/site-packages (from jupyterlab-server<3,>=2.3.0->voila) (0.9.6)\n",
      "Requirement already satisfied: jsonschema>=3.0.1 in /Users/imf/opt/anaconda3/lib/python3.9/site-packages (from jupyterlab-server<3,>=2.3.0->voila) (4.16.0)\n",
      "Requirement already satisfied: babel in /Users/imf/opt/anaconda3/lib/python3.9/site-packages (from jupyterlab-server<3,>=2.3.0->voila) (2.9.1)\n",
      "Requirement already satisfied: requests in /Users/imf/opt/anaconda3/lib/python3.9/site-packages (from jupyterlab-server<3,>=2.3.0->voila) (2.31.0)\n",
      "Requirement already satisfied: bleach in /Users/imf/opt/anaconda3/lib/python3.9/site-packages (from nbconvert<8,>=6.4.5->voila) (4.1.0)\n",
      "Requirement already satisfied: pygments>=2.4.1 in /Users/imf/opt/anaconda3/lib/python3.9/site-packages (from nbconvert<8,>=6.4.5->voila) (2.11.2)\n",
      "Requirement already satisfied: defusedxml in /Users/imf/opt/anaconda3/lib/python3.9/site-packages (from nbconvert<8,>=6.4.5->voila) (0.7.1)\n",
      "Requirement already satisfied: beautifulsoup4 in /Users/imf/opt/anaconda3/lib/python3.9/site-packages (from nbconvert<8,>=6.4.5->voila) (4.11.1)\n",
      "Requirement already satisfied: jupyterlab-pygments in /Users/imf/opt/anaconda3/lib/python3.9/site-packages (from nbconvert<8,>=6.4.5->voila) (0.1.2)\n",
      "Requirement already satisfied: mistune<3,>=2.0.3 in /Users/imf/opt/anaconda3/lib/python3.9/site-packages (from nbconvert<8,>=6.4.5->voila) (2.0.5)\n",
      "Requirement already satisfied: pandocfilters>=1.4.1 in /Users/imf/opt/anaconda3/lib/python3.9/site-packages (from nbconvert<8,>=6.4.5->voila) (1.5.0)\n",
      "Requirement already satisfied: tinycss2 in /Users/imf/opt/anaconda3/lib/python3.9/site-packages (from nbconvert<8,>=6.4.5->voila) (1.2.1)\n",
      "Requirement already satisfied: importlib-metadata>=3.6 in /Users/imf/opt/anaconda3/lib/python3.9/site-packages (from nbconvert<8,>=6.4.5->voila) (4.11.3)\n",
      "Requirement already satisfied: markupsafe>=2.0 in /Users/imf/opt/anaconda3/lib/python3.9/site-packages (from nbconvert<8,>=6.4.5->voila) (2.0.1)\n",
      "Requirement already satisfied: sniffio>=1.1 in /Users/imf/opt/anaconda3/lib/python3.9/site-packages (from anyio<4,>=3.1.0->jupyter-server<2.0.0,>=1.18->voila) (1.2.0)\n",
      "Requirement already satisfied: idna>=2.8 in /Users/imf/opt/anaconda3/lib/python3.9/site-packages (from anyio<4,>=3.1.0->jupyter-server<2.0.0,>=1.18->voila) (3.3)\n",
      "Requirement already satisfied: zipp>=0.5 in /Users/imf/opt/anaconda3/lib/python3.9/site-packages (from importlib-metadata>=3.6->nbconvert<8,>=6.4.5->voila) (3.8.0)\n",
      "Requirement already satisfied: attrs>=17.4.0 in /Users/imf/opt/anaconda3/lib/python3.9/site-packages (from jsonschema>=3.0.1->jupyterlab-server<3,>=2.3.0->voila) (21.4.0)\n",
      "Requirement already satisfied: pyrsistent!=0.17.0,!=0.17.1,!=0.17.2,>=0.14.0 in /Users/imf/opt/anaconda3/lib/python3.9/site-packages (from jsonschema>=3.0.1->jupyterlab-server<3,>=2.3.0->voila) (0.18.0)\n",
      "Requirement already satisfied: fastjsonschema in /Users/imf/opt/anaconda3/lib/python3.9/site-packages (from nbformat>=5.2.0->jupyter-server<2.0.0,>=1.18->voila) (2.16.2)\n",
      "Requirement already satisfied: six>=1.5 in /Users/imf/opt/anaconda3/lib/python3.9/site-packages (from python-dateutil>=2.8.2->jupyter-client<=7.4.1,>=6.1.3->voila) (1.16.0)\n",
      "Requirement already satisfied: ptyprocess in /Users/imf/opt/anaconda3/lib/python3.9/site-packages (from terminado>=0.8.3->jupyter-server<2.0.0,>=1.18->voila) (0.7.0)\n",
      "Requirement already satisfied: argon2-cffi-bindings in /Users/imf/opt/anaconda3/lib/python3.9/site-packages (from argon2-cffi->jupyter-server<2.0.0,>=1.18->voila) (21.2.0)\n",
      "Requirement already satisfied: pytz>=2015.7 in /Users/imf/opt/anaconda3/lib/python3.9/site-packages (from babel->jupyterlab-server<3,>=2.3.0->voila) (2022.1)\n",
      "Requirement already satisfied: soupsieve>1.2 in /Users/imf/opt/anaconda3/lib/python3.9/site-packages (from beautifulsoup4->nbconvert<8,>=6.4.5->voila) (2.3.1)\n",
      "Requirement already satisfied: webencodings in /Users/imf/opt/anaconda3/lib/python3.9/site-packages (from bleach->nbconvert<8,>=6.4.5->voila) (0.5.1)\n"
     ]
    },
    {
     "name": "stdout",
     "output_type": "stream",
     "text": [
      "Requirement already satisfied: pyparsing!=3.0.5,>=2.0.2 in /Users/imf/opt/anaconda3/lib/python3.9/site-packages (from packaging->jupyter-server<2.0.0,>=1.18->voila) (3.0.9)\n",
      "Requirement already satisfied: certifi>=2017.4.17 in /Users/imf/opt/anaconda3/lib/python3.9/site-packages (from requests->jupyterlab-server<3,>=2.3.0->voila) (2022.9.24)\n",
      "Requirement already satisfied: urllib3<3,>=1.21.1 in /Users/imf/opt/anaconda3/lib/python3.9/site-packages (from requests->jupyterlab-server<3,>=2.3.0->voila) (1.26.11)\n",
      "Requirement already satisfied: charset-normalizer<4,>=2 in /Users/imf/opt/anaconda3/lib/python3.9/site-packages (from requests->jupyterlab-server<3,>=2.3.0->voila) (2.0.4)\n",
      "Requirement already satisfied: cffi>=1.0.1 in /Users/imf/opt/anaconda3/lib/python3.9/site-packages (from argon2-cffi-bindings->argon2-cffi->jupyter-server<2.0.0,>=1.18->voila) (1.15.1)\n",
      "Requirement already satisfied: pycparser in /Users/imf/opt/anaconda3/lib/python3.9/site-packages (from cffi>=1.0.1->argon2-cffi-bindings->argon2-cffi->jupyter-server<2.0.0,>=1.18->voila) (2.21)\n",
      "Enabling: voila\n",
      "- Writing config: /Users/imf/opt/anaconda3/etc/jupyter\n",
      "    - Validating...\n",
      "      voila 0.4.0 \u001b[32mOK\u001b[0m\n",
      "Enabling notebook extension jupyter-js-widgets/extension...\n",
      "      - Validating: \u001b[32mOK\u001b[0m\n"
     ]
    }
   ],
   "source": [
    "#hide\n",
    "!pip install fastbook fastai\n",
    "!pip install voila\n",
    "!pip install ipympl\n",
    "!jupyter serverextension enable --sys-prefix voila\n",
    "!jupyter nbextension enable --py widgetsnbextension"
   ]
  },
  {
   "cell_type": "code",
   "execution_count": 61,
   "id": "d08eca89",
   "metadata": {},
   "outputs": [],
   "source": [
    "#hide\n",
    "! [ -e /content ] && pip install -Uqq fastbook\n",
    "import fastbook\n",
    "fastbook.setup_book()\n",
    "from fastbook import *\n",
    "from fastai.vision.widgets import *"
   ]
  },
  {
   "cell_type": "code",
   "execution_count": 62,
   "id": "09655f95",
   "metadata": {},
   "outputs": [],
   "source": [
    "path = Path()\n",
    "learn_inf = load_learner(path/'bear-matcher.pkl')"
   ]
  },
  {
   "cell_type": "code",
   "execution_count": 63,
   "id": "023388e4",
   "metadata": {},
   "outputs": [],
   "source": [
    "#learn_inf.dls.vocab"
   ]
  },
  {
   "cell_type": "code",
   "execution_count": 64,
   "id": "3f19a730",
   "metadata": {},
   "outputs": [
    {
     "data": {
      "application/vnd.jupyter.widget-view+json": {
       "model_id": "f0c517c46efc4b548077cc51bd6c7720",
       "version_major": 2,
       "version_minor": 0
      },
      "text/plain": [
       "FileUpload(value={}, description='Upload')"
      ]
     },
     "metadata": {},
     "output_type": "display_data"
    }
   ],
   "source": [
    "#hide_output\n",
    "btn_upload = widgets.FileUpload()\n",
    "btn_upload"
   ]
  },
  {
   "cell_type": "code",
   "execution_count": 65,
   "id": "b89d9ae5",
   "metadata": {},
   "outputs": [],
   "source": [
    "#img = PILImage.create(btn_upload.data[-1])\n",
    "img = PILImage.create(path/'images/broken.jpeg')"
   ]
  },
  {
   "cell_type": "code",
   "execution_count": 66,
   "id": "98084e98",
   "metadata": {},
   "outputs": [
    {
     "data": {
      "application/vnd.jupyter.widget-view+json": {
       "model_id": "29700a3bd3364f4cb288d5cbfcaec5dd",
       "version_major": 2,
       "version_minor": 0
      },
      "text/plain": [
       "Output()"
      ]
     },
     "metadata": {},
     "output_type": "display_data"
    }
   ],
   "source": [
    "#hide_output\n",
    "out_pl = widgets.Output()\n",
    "out_pl.clear_output()\n",
    "with out_pl: display(img.to_thumb(128,128))\n",
    "out_pl"
   ]
  },
  {
   "cell_type": "code",
   "execution_count": 67,
   "id": "79a16991",
   "metadata": {},
   "outputs": [
    {
     "data": {
      "text/html": [
       "\n",
       "<style>\n",
       "    /* Turns off some styling */\n",
       "    progress {\n",
       "        /* gets rid of default border in Firefox and Opera. */\n",
       "        border: none;\n",
       "        /* Needs to be in here for Safari polyfill so background images work as expected. */\n",
       "        background-size: auto;\n",
       "    }\n",
       "    progress:not([value]), progress:not([value])::-webkit-progress-bar {\n",
       "        background: repeating-linear-gradient(45deg, #7e7e7e, #7e7e7e 10px, #5c5c5c 10px, #5c5c5c 20px);\n",
       "    }\n",
       "    .progress-bar-interrupted, .progress-bar-interrupted::-webkit-progress-bar {\n",
       "        background: #F44336;\n",
       "    }\n",
       "</style>\n"
      ],
      "text/plain": [
       "<IPython.core.display.HTML object>"
      ]
     },
     "metadata": {},
     "output_type": "display_data"
    },
    {
     "data": {
      "text/html": [],
      "text/plain": [
       "<IPython.core.display.HTML object>"
      ]
     },
     "metadata": {},
     "output_type": "display_data"
    }
   ],
   "source": [
    "pred,pred_idx,probs = learn_inf.predict(img)"
   ]
  },
  {
   "cell_type": "code",
   "execution_count": 68,
   "id": "5496dd47",
   "metadata": {},
   "outputs": [
    {
     "data": {
      "application/vnd.jupyter.widget-view+json": {
       "model_id": "5426f05a62b14ab39bbecf4ab84a439b",
       "version_major": 2,
       "version_minor": 0
      },
      "text/plain": [
       "Label(value='Prediction: teddy; Probability: 0.9938')"
      ]
     },
     "metadata": {},
     "output_type": "display_data"
    }
   ],
   "source": [
    "#hide_output\n",
    "lbl_pred = widgets.Label()\n",
    "lbl_pred.value = f'Prediction: {pred}; Probability: {probs[pred_idx]:.04f}'\n",
    "lbl_pred"
   ]
  },
  {
   "cell_type": "code",
   "execution_count": 69,
   "id": "47f3ed5f",
   "metadata": {},
   "outputs": [
    {
     "data": {
      "application/vnd.jupyter.widget-view+json": {
       "model_id": "88bd16828dd34990aba93075997a0a50",
       "version_major": 2,
       "version_minor": 0
      },
      "text/plain": [
       "Button(description='Classify', style=ButtonStyle())"
      ]
     },
     "metadata": {},
     "output_type": "display_data"
    }
   ],
   "source": [
    "#hide_output\n",
    "btn_run = widgets.Button(description='Classify')\n",
    "btn_run"
   ]
  },
  {
   "cell_type": "code",
   "execution_count": 70,
   "id": "42721523",
   "metadata": {},
   "outputs": [],
   "source": [
    "def on_click_classify(change):\n",
    "    img = PILImage.create(btn_upload.data[-1])\n",
    "    out_pl.clear_output()\n",
    "    with out_pl: display(img.to_thumb(128,128))\n",
    "    pred,pred_idx,probs = learn_inf.predict(img)\n",
    "    lbl_pred.value = f'Prediction: {pred}; Probability: {probs[pred_idx]:.04f}'\n",
    "\n",
    "btn_run.on_click(on_click_classify)"
   ]
  },
  {
   "cell_type": "code",
   "execution_count": 71,
   "id": "5f032f94",
   "metadata": {},
   "outputs": [],
   "source": [
    "#hide\n",
    "#Putting back btn_upload to a widget for next cell\n",
    "btn_upload = widgets.FileUpload()"
   ]
  },
  {
   "cell_type": "code",
   "execution_count": 74,
   "id": "cbb1b2f5",
   "metadata": {},
   "outputs": [
    {
     "data": {
      "application/vnd.jupyter.widget-view+json": {
       "model_id": "560aead1b64644de9d59dda8c9e81805",
       "version_major": 2,
       "version_minor": 0
      },
      "text/plain": [
       "VBox(children=(Label(value='Select your bear!'), FileUpload(value={}, description='Upload'), Button(descriptio…"
      ]
     },
     "metadata": {},
     "output_type": "display_data"
    }
   ],
   "source": [
    "#hide_output\n",
    "VBox([widgets.Label('Select your bear!'), \n",
    "      btn_upload, btn_run, out_pl, lbl_pred])"
   ]
  },
  {
   "cell_type": "code",
   "execution_count": 75,
   "id": "be7185e5",
   "metadata": {},
   "outputs": [
    {
     "name": "stdout",
     "output_type": "stream",
     "text": [
      "\r\n",
      " 3.9.13 (main, Aug 25 2022, 18:24:45) \r\n",
      "[Clang 12.0.0 ]\r\n",
      "Traceback (most recent call last):\r\n",
      "  File \"<string>\", line 1, in <module>\r\n",
      "ModuleNotFoundError: No module named 'ipympl'\r\n"
     ]
    }
   ],
   "source": [
    "!python -c \"import sys; print('\\n',sys.version); import ipympl; print('ipympl version:', ipympl.__version__)\" && jupyter --version && jupyter nbextension list && jupyter labextension list"
   ]
  },
  {
   "cell_type": "code",
   "execution_count": null,
   "id": "725bc487",
   "metadata": {},
   "outputs": [],
   "source": []
  }
 ],
 "metadata": {
  "kernelspec": {
   "display_name": "Python 3 (ipykernel)",
   "language": "python",
   "name": "python3"
  },
  "language_info": {
   "codemirror_mode": {
    "name": "ipython",
    "version": 3
   },
   "file_extension": ".py",
   "mimetype": "text/x-python",
   "name": "python",
   "nbconvert_exporter": "python",
   "pygments_lexer": "ipython3",
   "version": "3.9.13"
  }
 },
 "nbformat": 4,
 "nbformat_minor": 5
}
