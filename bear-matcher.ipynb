{
 "cells": [
  {
   "cell_type": "markdown",
   "id": "b3104b70",
   "metadata": {},
   "source": [
    "The Bear Matcher\n",
    "==============\n",
    "It matches bears. Upload an image of a bear and it will tell you if it's a grizzly, a black bear, or a teddy bear. If it's none of these, it will find the 'closest' label for it. :)"
   ]
  },
  {
   "cell_type": "code",
   "execution_count": 4,
   "id": "0588638d",
   "metadata": {},
   "outputs": [
    {
     "name": "stdout",
     "output_type": "stream",
     "text": [
      "Collecting fastbook\n",
      "  Downloading fastbook-0.0.29-py3-none-any.whl (719 kB)\n",
      "\u001b[2K     \u001b[90m━━━━━━━━━━━━━━━━━━━━━━━━━━━━━━━━━━━━━━━\u001b[0m \u001b[32m719.8/719.8 kB\u001b[0m \u001b[31m8.0 MB/s\u001b[0m eta \u001b[36m0:00:00\u001b[0ma \u001b[36m0:00:01\u001b[0m\n",
      "\u001b[?25hRequirement already satisfied: fastai in /Users/imf/opt/anaconda3/lib/python3.9/site-packages (2.7.12)\n",
      "Collecting datasets\n",
      "  Downloading datasets-2.12.0-py3-none-any.whl (474 kB)\n",
      "\u001b[2K     \u001b[90m━━━━━━━━━━━━━━━━━━━━━━━━━━━━━━━━━━━━━━\u001b[0m \u001b[32m474.6/474.6 kB\u001b[0m \u001b[31m34.4 MB/s\u001b[0m eta \u001b[36m0:00:00\u001b[0m\n",
      "\u001b[?25hRequirement already satisfied: requests in /Users/imf/opt/anaconda3/lib/python3.9/site-packages (from fastbook) (2.31.0)\n",
      "Requirement already satisfied: transformers in /Users/imf/opt/anaconda3/lib/python3.9/site-packages (from fastbook) (4.28.1)\n",
      "Requirement already satisfied: ipywidgets<8 in /Users/imf/opt/anaconda3/lib/python3.9/site-packages (from fastbook) (7.6.5)\n",
      "Requirement already satisfied: packaging in /Users/imf/opt/anaconda3/lib/python3.9/site-packages (from fastbook) (21.3)\n",
      "Requirement already satisfied: sentencepiece in /Users/imf/opt/anaconda3/lib/python3.9/site-packages (from fastbook) (0.1.97)\n",
      "Collecting graphviz\n",
      "  Downloading graphviz-0.20.1-py3-none-any.whl (47 kB)\n",
      "\u001b[2K     \u001b[90m━━━━━━━━━━━━━━━━━━━━━━━━━━━━━━━━━━━━━━━━\u001b[0m \u001b[32m47.0/47.0 kB\u001b[0m \u001b[31m5.5 MB/s\u001b[0m eta \u001b[36m0:00:00\u001b[0m\n",
      "\u001b[?25hRequirement already satisfied: pip in /Users/imf/opt/anaconda3/lib/python3.9/site-packages (from fastbook) (22.2.2)\n",
      "Requirement already satisfied: pandas in /Users/imf/opt/anaconda3/lib/python3.9/site-packages (from fastbook) (1.4.4)\n",
      "Requirement already satisfied: fastcore<1.6,>=1.5.29 in /Users/imf/opt/anaconda3/lib/python3.9/site-packages (from fastai) (1.5.29)\n",
      "Requirement already satisfied: matplotlib in /Users/imf/opt/anaconda3/lib/python3.9/site-packages (from fastai) (3.5.2)\n",
      "Requirement already satisfied: fastprogress>=0.2.4 in /Users/imf/opt/anaconda3/lib/python3.9/site-packages (from fastai) (1.0.3)\n",
      "Requirement already satisfied: spacy<4 in /Users/imf/opt/anaconda3/lib/python3.9/site-packages (from fastai) (3.5.3)\n",
      "Requirement already satisfied: torch<2.1,>=1.7 in /Users/imf/opt/anaconda3/lib/python3.9/site-packages (from fastai) (2.0.1)\n",
      "Requirement already satisfied: scikit-learn in /Users/imf/opt/anaconda3/lib/python3.9/site-packages (from fastai) (1.1.1)\n",
      "Requirement already satisfied: torchvision>=0.8.2 in /Users/imf/opt/anaconda3/lib/python3.9/site-packages (from fastai) (0.15.2)\n",
      "Requirement already satisfied: pillow>6.0.0 in /Users/imf/opt/anaconda3/lib/python3.9/site-packages (from fastai) (9.2.0)\n",
      "Requirement already satisfied: fastdownload<2,>=0.0.5 in /Users/imf/opt/anaconda3/lib/python3.9/site-packages (from fastai) (0.0.7)\n",
      "Requirement already satisfied: scipy in /Users/imf/opt/anaconda3/lib/python3.9/site-packages (from fastai) (1.9.1)\n",
      "Requirement already satisfied: pyyaml in /Users/imf/opt/anaconda3/lib/python3.9/site-packages (from fastai) (6.0)\n",
      "Requirement already satisfied: nbformat>=4.2.0 in /Users/imf/opt/anaconda3/lib/python3.9/site-packages (from ipywidgets<8->fastbook) (5.5.0)\n",
      "Requirement already satisfied: traitlets>=4.3.1 in /Users/imf/opt/anaconda3/lib/python3.9/site-packages (from ipywidgets<8->fastbook) (5.1.1)\n",
      "Requirement already satisfied: jupyterlab-widgets>=1.0.0 in /Users/imf/opt/anaconda3/lib/python3.9/site-packages (from ipywidgets<8->fastbook) (1.0.0)\n",
      "Requirement already satisfied: widgetsnbextension~=3.5.0 in /Users/imf/opt/anaconda3/lib/python3.9/site-packages (from ipywidgets<8->fastbook) (3.5.2)\n",
      "Requirement already satisfied: ipython-genutils~=0.2.0 in /Users/imf/opt/anaconda3/lib/python3.9/site-packages (from ipywidgets<8->fastbook) (0.2.0)\n",
      "Requirement already satisfied: ipython>=4.0.0 in /Users/imf/opt/anaconda3/lib/python3.9/site-packages (from ipywidgets<8->fastbook) (8.4.0)\n",
      "Requirement already satisfied: ipykernel>=4.5.1 in /Users/imf/opt/anaconda3/lib/python3.9/site-packages (from ipywidgets<8->fastbook) (6.15.2)\n",
      "Requirement already satisfied: wasabi<1.2.0,>=0.9.1 in /Users/imf/opt/anaconda3/lib/python3.9/site-packages (from spacy<4->fastai) (1.1.1)\n",
      "Requirement already satisfied: spacy-loggers<2.0.0,>=1.0.0 in /Users/imf/opt/anaconda3/lib/python3.9/site-packages (from spacy<4->fastai) (1.0.4)\n",
      "Requirement already satisfied: typer<0.8.0,>=0.3.0 in /Users/imf/opt/anaconda3/lib/python3.9/site-packages (from spacy<4->fastai) (0.7.0)\n",
      "Requirement already satisfied: pathy>=0.10.0 in /Users/imf/opt/anaconda3/lib/python3.9/site-packages (from spacy<4->fastai) (0.10.1)\n",
      "Requirement already satisfied: jinja2 in /Users/imf/opt/anaconda3/lib/python3.9/site-packages (from spacy<4->fastai) (3.1.2)\n",
      "Requirement already satisfied: tqdm<5.0.0,>=4.38.0 in /Users/imf/opt/anaconda3/lib/python3.9/site-packages (from spacy<4->fastai) (4.64.1)\n",
      "Requirement already satisfied: numpy>=1.15.0 in /Users/imf/opt/anaconda3/lib/python3.9/site-packages (from spacy<4->fastai) (1.21.5)\n",
      "Requirement already satisfied: cymem<2.1.0,>=2.0.2 in /Users/imf/opt/anaconda3/lib/python3.9/site-packages (from spacy<4->fastai) (2.0.7)\n",
      "Requirement already satisfied: preshed<3.1.0,>=3.0.2 in /Users/imf/opt/anaconda3/lib/python3.9/site-packages (from spacy<4->fastai) (3.0.8)\n",
      "Requirement already satisfied: smart-open<7.0.0,>=5.2.1 in /Users/imf/opt/anaconda3/lib/python3.9/site-packages (from spacy<4->fastai) (5.2.1)\n",
      "Requirement already satisfied: catalogue<2.1.0,>=2.0.6 in /Users/imf/opt/anaconda3/lib/python3.9/site-packages (from spacy<4->fastai) (2.0.8)\n",
      "Requirement already satisfied: thinc<8.2.0,>=8.1.8 in /Users/imf/opt/anaconda3/lib/python3.9/site-packages (from spacy<4->fastai) (8.1.10)\n",
      "Requirement already satisfied: pydantic!=1.8,!=1.8.1,<1.11.0,>=1.7.4 in /Users/imf/opt/anaconda3/lib/python3.9/site-packages (from spacy<4->fastai) (1.10.7)\n",
      "Requirement already satisfied: spacy-legacy<3.1.0,>=3.0.11 in /Users/imf/opt/anaconda3/lib/python3.9/site-packages (from spacy<4->fastai) (3.0.12)\n",
      "Requirement already satisfied: setuptools in /Users/imf/opt/anaconda3/lib/python3.9/site-packages (from spacy<4->fastai) (63.4.1)\n",
      "Requirement already satisfied: langcodes<4.0.0,>=3.2.0 in /Users/imf/opt/anaconda3/lib/python3.9/site-packages (from spacy<4->fastai) (3.3.0)\n",
      "Requirement already satisfied: srsly<3.0.0,>=2.4.3 in /Users/imf/opt/anaconda3/lib/python3.9/site-packages (from spacy<4->fastai) (2.4.6)\n",
      "Requirement already satisfied: murmurhash<1.1.0,>=0.28.0 in /Users/imf/opt/anaconda3/lib/python3.9/site-packages (from spacy<4->fastai) (1.0.9)\n",
      "Requirement already satisfied: pyparsing!=3.0.5,>=2.0.2 in /Users/imf/opt/anaconda3/lib/python3.9/site-packages (from packaging->fastbook) (3.0.9)\n",
      "Requirement already satisfied: charset-normalizer<4,>=2 in /Users/imf/opt/anaconda3/lib/python3.9/site-packages (from requests->fastbook) (2.0.4)\n",
      "Requirement already satisfied: certifi>=2017.4.17 in /Users/imf/opt/anaconda3/lib/python3.9/site-packages (from requests->fastbook) (2022.9.24)\n",
      "Requirement already satisfied: urllib3<3,>=1.21.1 in /Users/imf/opt/anaconda3/lib/python3.9/site-packages (from requests->fastbook) (1.26.11)\n",
      "Requirement already satisfied: idna<4,>=2.5 in /Users/imf/opt/anaconda3/lib/python3.9/site-packages (from requests->fastbook) (3.3)\n",
      "Requirement already satisfied: filelock in /Users/imf/opt/anaconda3/lib/python3.9/site-packages (from torch<2.1,>=1.7->fastai) (3.6.0)\n",
      "Requirement already satisfied: typing-extensions in /Users/imf/opt/anaconda3/lib/python3.9/site-packages (from torch<2.1,>=1.7->fastai) (4.3.0)\n",
      "Requirement already satisfied: sympy in /Users/imf/opt/anaconda3/lib/python3.9/site-packages (from torch<2.1,>=1.7->fastai) (1.10.1)\n",
      "Requirement already satisfied: networkx in /Users/imf/opt/anaconda3/lib/python3.9/site-packages (from torch<2.1,>=1.7->fastai) (2.8.4)\n",
      "Requirement already satisfied: dill<0.3.7,>=0.3.0 in /Users/imf/opt/anaconda3/lib/python3.9/site-packages (from datasets->fastbook) (0.3.4)\n",
      "Collecting pyarrow>=8.0.0\n",
      "  Downloading pyarrow-12.0.0-cp39-cp39-macosx_11_0_arm64.whl (22.7 MB)\n",
      "\u001b[2K     \u001b[90m━━━━━━━━━━━━━━━━━━━━━━━━━━━━━━━━━━━━━━━━\u001b[0m \u001b[32m22.7/22.7 MB\u001b[0m \u001b[31m14.6 MB/s\u001b[0m eta \u001b[36m0:00:00\u001b[0m00:01\u001b[0m00:01\u001b[0m\n",
      "\u001b[?25hRequirement already satisfied: aiohttp in /Users/imf/opt/anaconda3/lib/python3.9/site-packages (from datasets->fastbook) (3.8.4)\n"
     ]
    },
    {
     "name": "stdout",
     "output_type": "stream",
     "text": [
      "Collecting responses<0.19\n",
      "  Downloading responses-0.18.0-py3-none-any.whl (38 kB)\n",
      "Collecting multiprocess\n",
      "  Downloading multiprocess-0.70.14-py39-none-any.whl (132 kB)\n",
      "\u001b[2K     \u001b[90m━━━━━━━━━━━━━━━━━━━━━━━━━━━━━━━━━━━━━━\u001b[0m \u001b[32m132.9/132.9 kB\u001b[0m \u001b[31m13.7 MB/s\u001b[0m eta \u001b[36m0:00:00\u001b[0m\n",
      "\u001b[?25hRequirement already satisfied: huggingface-hub<1.0.0,>=0.11.0 in /Users/imf/opt/anaconda3/lib/python3.9/site-packages (from datasets->fastbook) (0.14.1)\n",
      "Collecting xxhash\n",
      "  Downloading xxhash-3.2.0-cp39-cp39-macosx_11_0_arm64.whl (31 kB)\n",
      "Requirement already satisfied: fsspec[http]>=2021.11.1 in /Users/imf/opt/anaconda3/lib/python3.9/site-packages (from datasets->fastbook) (2022.7.1)\n",
      "Requirement already satisfied: fonttools>=4.22.0 in /Users/imf/opt/anaconda3/lib/python3.9/site-packages (from matplotlib->fastai) (4.25.0)\n",
      "Requirement already satisfied: cycler>=0.10 in /Users/imf/opt/anaconda3/lib/python3.9/site-packages (from matplotlib->fastai) (0.11.0)\n",
      "Requirement already satisfied: kiwisolver>=1.0.1 in /Users/imf/opt/anaconda3/lib/python3.9/site-packages (from matplotlib->fastai) (1.4.2)\n",
      "Requirement already satisfied: python-dateutil>=2.7 in /Users/imf/opt/anaconda3/lib/python3.9/site-packages (from matplotlib->fastai) (2.8.2)\n",
      "Requirement already satisfied: pytz>=2020.1 in /Users/imf/opt/anaconda3/lib/python3.9/site-packages (from pandas->fastbook) (2022.1)\n",
      "Requirement already satisfied: joblib>=1.0.0 in /Users/imf/opt/anaconda3/lib/python3.9/site-packages (from scikit-learn->fastai) (1.1.0)\n",
      "Requirement already satisfied: threadpoolctl>=2.0.0 in /Users/imf/opt/anaconda3/lib/python3.9/site-packages (from scikit-learn->fastai) (2.2.0)\n",
      "Requirement already satisfied: regex!=2019.12.17 in /Users/imf/opt/anaconda3/lib/python3.9/site-packages (from transformers->fastbook) (2022.7.9)\n",
      "Requirement already satisfied: tokenizers!=0.11.3,<0.14,>=0.11.1 in /Users/imf/opt/anaconda3/lib/python3.9/site-packages (from transformers->fastbook) (0.13.3)\n",
      "Requirement already satisfied: nest-asyncio in /Users/imf/opt/anaconda3/lib/python3.9/site-packages (from ipykernel>=4.5.1->ipywidgets<8->fastbook) (1.5.5)\n",
      "Requirement already satisfied: matplotlib-inline>=0.1 in /Users/imf/opt/anaconda3/lib/python3.9/site-packages (from ipykernel>=4.5.1->ipywidgets<8->fastbook) (0.1.6)\n",
      "Requirement already satisfied: appnope in /Users/imf/opt/anaconda3/lib/python3.9/site-packages (from ipykernel>=4.5.1->ipywidgets<8->fastbook) (0.1.2)\n",
      "Requirement already satisfied: tornado>=6.1 in /Users/imf/opt/anaconda3/lib/python3.9/site-packages (from ipykernel>=4.5.1->ipywidgets<8->fastbook) (6.1)\n",
      "Requirement already satisfied: psutil in /Users/imf/opt/anaconda3/lib/python3.9/site-packages (from ipykernel>=4.5.1->ipywidgets<8->fastbook) (5.9.0)\n",
      "Requirement already satisfied: debugpy>=1.0 in /Users/imf/opt/anaconda3/lib/python3.9/site-packages (from ipykernel>=4.5.1->ipywidgets<8->fastbook) (1.5.1)\n",
      "Requirement already satisfied: pyzmq>=17 in /Users/imf/opt/anaconda3/lib/python3.9/site-packages (from ipykernel>=4.5.1->ipywidgets<8->fastbook) (23.2.0)\n",
      "Requirement already satisfied: jupyter-client>=6.1.12 in /Users/imf/opt/anaconda3/lib/python3.9/site-packages (from ipykernel>=4.5.1->ipywidgets<8->fastbook) (7.3.4)\n",
      "Requirement already satisfied: prompt-toolkit!=3.0.0,!=3.0.1,<3.1.0,>=2.0.0 in /Users/imf/opt/anaconda3/lib/python3.9/site-packages (from ipython>=4.0.0->ipywidgets<8->fastbook) (3.0.20)\n",
      "Requirement already satisfied: backcall in /Users/imf/opt/anaconda3/lib/python3.9/site-packages (from ipython>=4.0.0->ipywidgets<8->fastbook) (0.2.0)\n",
      "Requirement already satisfied: decorator in /Users/imf/opt/anaconda3/lib/python3.9/site-packages (from ipython>=4.0.0->ipywidgets<8->fastbook) (5.1.1)\n",
      "Requirement already satisfied: pygments>=2.4.0 in /Users/imf/opt/anaconda3/lib/python3.9/site-packages (from ipython>=4.0.0->ipywidgets<8->fastbook) (2.11.2)\n",
      "Requirement already satisfied: jedi>=0.16 in /Users/imf/opt/anaconda3/lib/python3.9/site-packages (from ipython>=4.0.0->ipywidgets<8->fastbook) (0.18.1)\n",
      "Requirement already satisfied: pexpect>4.3 in /Users/imf/opt/anaconda3/lib/python3.9/site-packages (from ipython>=4.0.0->ipywidgets<8->fastbook) (4.8.0)\n",
      "Requirement already satisfied: pickleshare in /Users/imf/opt/anaconda3/lib/python3.9/site-packages (from ipython>=4.0.0->ipywidgets<8->fastbook) (0.7.5)\n",
      "Requirement already satisfied: stack-data in /Users/imf/opt/anaconda3/lib/python3.9/site-packages (from ipython>=4.0.0->ipywidgets<8->fastbook) (0.2.0)\n",
      "Requirement already satisfied: jupyter_core in /Users/imf/opt/anaconda3/lib/python3.9/site-packages (from nbformat>=4.2.0->ipywidgets<8->fastbook) (4.11.1)\n",
      "Requirement already satisfied: fastjsonschema in /Users/imf/opt/anaconda3/lib/python3.9/site-packages (from nbformat>=4.2.0->ipywidgets<8->fastbook) (2.16.2)\n",
      "Requirement already satisfied: jsonschema>=2.6 in /Users/imf/opt/anaconda3/lib/python3.9/site-packages (from nbformat>=4.2.0->ipywidgets<8->fastbook) (4.16.0)\n",
      "Requirement already satisfied: six>=1.5 in /Users/imf/opt/anaconda3/lib/python3.9/site-packages (from python-dateutil>=2.7->matplotlib->fastai) (1.16.0)\n",
      "Requirement already satisfied: confection<1.0.0,>=0.0.1 in /Users/imf/opt/anaconda3/lib/python3.9/site-packages (from thinc<8.2.0,>=8.1.8->spacy<4->fastai) (0.0.4)\n",
      "Requirement already satisfied: blis<0.8.0,>=0.7.8 in /Users/imf/opt/anaconda3/lib/python3.9/site-packages (from thinc<8.2.0,>=8.1.8->spacy<4->fastai) (0.7.9)\n",
      "Requirement already satisfied: click<9.0.0,>=7.1.1 in /Users/imf/opt/anaconda3/lib/python3.9/site-packages (from typer<0.8.0,>=0.3.0->spacy<4->fastai) (8.1.3)\n",
      "Requirement already satisfied: notebook>=4.4.1 in /Users/imf/opt/anaconda3/lib/python3.9/site-packages (from widgetsnbextension~=3.5.0->ipywidgets<8->fastbook) (6.4.12)\n",
      "Requirement already satisfied: frozenlist>=1.1.1 in /Users/imf/opt/anaconda3/lib/python3.9/site-packages (from aiohttp->datasets->fastbook) (1.3.3)\n",
      "Requirement already satisfied: multidict<7.0,>=4.5 in /Users/imf/opt/anaconda3/lib/python3.9/site-packages (from aiohttp->datasets->fastbook) (6.0.4)\n",
      "Requirement already satisfied: yarl<2.0,>=1.0 in /Users/imf/opt/anaconda3/lib/python3.9/site-packages (from aiohttp->datasets->fastbook) (1.8.2)\n",
      "Requirement already satisfied: aiosignal>=1.1.2 in /Users/imf/opt/anaconda3/lib/python3.9/site-packages (from aiohttp->datasets->fastbook) (1.3.1)\n",
      "Requirement already satisfied: attrs>=17.3.0 in /Users/imf/opt/anaconda3/lib/python3.9/site-packages (from aiohttp->datasets->fastbook) (21.4.0)\n",
      "Requirement already satisfied: async-timeout<5.0,>=4.0.0a3 in /Users/imf/opt/anaconda3/lib/python3.9/site-packages (from aiohttp->datasets->fastbook) (4.0.2)\n",
      "Requirement already satisfied: MarkupSafe>=2.0 in /Users/imf/opt/anaconda3/lib/python3.9/site-packages (from jinja2->spacy<4->fastai) (2.0.1)\n",
      "Collecting dill<0.3.7,>=0.3.0\n",
      "  Downloading dill-0.3.6-py3-none-any.whl (110 kB)\n",
      "\u001b[2K     \u001b[90m━━━━━━━━━━━━━━━━━━━━━━━━━━━━━━━━━━━━━━━\u001b[0m \u001b[32m110.5/110.5 kB\u001b[0m \u001b[31m8.0 MB/s\u001b[0m eta \u001b[36m0:00:00\u001b[0m\n",
      "\u001b[?25hRequirement already satisfied: mpmath>=0.19 in /Users/imf/opt/anaconda3/lib/python3.9/site-packages (from sympy->torch<2.1,>=1.7->fastai) (1.2.1)\n",
      "Requirement already satisfied: parso<0.9.0,>=0.8.0 in /Users/imf/opt/anaconda3/lib/python3.9/site-packages (from jedi>=0.16->ipython>=4.0.0->ipywidgets<8->fastbook) (0.8.3)\n",
      "Requirement already satisfied: pyrsistent!=0.17.0,!=0.17.1,!=0.17.2,>=0.14.0 in /Users/imf/opt/anaconda3/lib/python3.9/site-packages (from jsonschema>=2.6->nbformat>=4.2.0->ipywidgets<8->fastbook) (0.18.0)\n",
      "Requirement already satisfied: entrypoints in /Users/imf/opt/anaconda3/lib/python3.9/site-packages (from jupyter-client>=6.1.12->ipykernel>=4.5.1->ipywidgets<8->fastbook) (0.4)\n",
      "Requirement already satisfied: terminado>=0.8.3 in /Users/imf/opt/anaconda3/lib/python3.9/site-packages (from notebook>=4.4.1->widgetsnbextension~=3.5.0->ipywidgets<8->fastbook) (0.13.1)\n",
      "Requirement already satisfied: argon2-cffi in /Users/imf/opt/anaconda3/lib/python3.9/site-packages (from notebook>=4.4.1->widgetsnbextension~=3.5.0->ipywidgets<8->fastbook) (21.3.0)\n",
      "Requirement already satisfied: Send2Trash>=1.8.0 in /Users/imf/opt/anaconda3/lib/python3.9/site-packages (from notebook>=4.4.1->widgetsnbextension~=3.5.0->ipywidgets<8->fastbook) (1.8.0)\n",
      "Requirement already satisfied: nbconvert>=5 in /Users/imf/opt/anaconda3/lib/python3.9/site-packages (from notebook>=4.4.1->widgetsnbextension~=3.5.0->ipywidgets<8->fastbook) (7.4.0)\n",
      "Requirement already satisfied: prometheus-client in /Users/imf/opt/anaconda3/lib/python3.9/site-packages (from notebook>=4.4.1->widgetsnbextension~=3.5.0->ipywidgets<8->fastbook) (0.14.1)\n",
      "Requirement already satisfied: ptyprocess>=0.5 in /Users/imf/opt/anaconda3/lib/python3.9/site-packages (from pexpect>4.3->ipython>=4.0.0->ipywidgets<8->fastbook) (0.7.0)\n"
     ]
    },
    {
     "name": "stdout",
     "output_type": "stream",
     "text": [
      "Requirement already satisfied: wcwidth in /Users/imf/opt/anaconda3/lib/python3.9/site-packages (from prompt-toolkit!=3.0.0,!=3.0.1,<3.1.0,>=2.0.0->ipython>=4.0.0->ipywidgets<8->fastbook) (0.2.5)\n",
      "Requirement already satisfied: pure-eval in /Users/imf/opt/anaconda3/lib/python3.9/site-packages (from stack-data->ipython>=4.0.0->ipywidgets<8->fastbook) (0.2.2)\n",
      "Requirement already satisfied: executing in /Users/imf/opt/anaconda3/lib/python3.9/site-packages (from stack-data->ipython>=4.0.0->ipywidgets<8->fastbook) (0.8.3)\n",
      "Requirement already satisfied: asttokens in /Users/imf/opt/anaconda3/lib/python3.9/site-packages (from stack-data->ipython>=4.0.0->ipywidgets<8->fastbook) (2.0.5)\n",
      "Requirement already satisfied: importlib-metadata>=3.6 in /Users/imf/opt/anaconda3/lib/python3.9/site-packages (from nbconvert>=5->notebook>=4.4.1->widgetsnbextension~=3.5.0->ipywidgets<8->fastbook) (4.11.3)\n",
      "Requirement already satisfied: bleach in /Users/imf/opt/anaconda3/lib/python3.9/site-packages (from nbconvert>=5->notebook>=4.4.1->widgetsnbextension~=3.5.0->ipywidgets<8->fastbook) (4.1.0)\n",
      "Requirement already satisfied: nbclient>=0.5.0 in /Users/imf/opt/anaconda3/lib/python3.9/site-packages (from nbconvert>=5->notebook>=4.4.1->widgetsnbextension~=3.5.0->ipywidgets<8->fastbook) (0.5.13)\n",
      "Requirement already satisfied: beautifulsoup4 in /Users/imf/opt/anaconda3/lib/python3.9/site-packages (from nbconvert>=5->notebook>=4.4.1->widgetsnbextension~=3.5.0->ipywidgets<8->fastbook) (4.11.1)\n",
      "Requirement already satisfied: mistune<3,>=2.0.3 in /Users/imf/opt/anaconda3/lib/python3.9/site-packages (from nbconvert>=5->notebook>=4.4.1->widgetsnbextension~=3.5.0->ipywidgets<8->fastbook) (2.0.5)\n",
      "Requirement already satisfied: pandocfilters>=1.4.1 in /Users/imf/opt/anaconda3/lib/python3.9/site-packages (from nbconvert>=5->notebook>=4.4.1->widgetsnbextension~=3.5.0->ipywidgets<8->fastbook) (1.5.0)\n",
      "Requirement already satisfied: tinycss2 in /Users/imf/opt/anaconda3/lib/python3.9/site-packages (from nbconvert>=5->notebook>=4.4.1->widgetsnbextension~=3.5.0->ipywidgets<8->fastbook) (1.2.1)\n",
      "Requirement already satisfied: defusedxml in /Users/imf/opt/anaconda3/lib/python3.9/site-packages (from nbconvert>=5->notebook>=4.4.1->widgetsnbextension~=3.5.0->ipywidgets<8->fastbook) (0.7.1)\n",
      "Requirement already satisfied: jupyterlab-pygments in /Users/imf/opt/anaconda3/lib/python3.9/site-packages (from nbconvert>=5->notebook>=4.4.1->widgetsnbextension~=3.5.0->ipywidgets<8->fastbook) (0.1.2)\n",
      "Requirement already satisfied: argon2-cffi-bindings in /Users/imf/opt/anaconda3/lib/python3.9/site-packages (from argon2-cffi->notebook>=4.4.1->widgetsnbextension~=3.5.0->ipywidgets<8->fastbook) (21.2.0)\n",
      "Requirement already satisfied: zipp>=0.5 in /Users/imf/opt/anaconda3/lib/python3.9/site-packages (from importlib-metadata>=3.6->nbconvert>=5->notebook>=4.4.1->widgetsnbextension~=3.5.0->ipywidgets<8->fastbook) (3.8.0)\n",
      "Requirement already satisfied: cffi>=1.0.1 in /Users/imf/opt/anaconda3/lib/python3.9/site-packages (from argon2-cffi-bindings->argon2-cffi->notebook>=4.4.1->widgetsnbextension~=3.5.0->ipywidgets<8->fastbook) (1.15.1)\n",
      "Requirement already satisfied: soupsieve>1.2 in /Users/imf/opt/anaconda3/lib/python3.9/site-packages (from beautifulsoup4->nbconvert>=5->notebook>=4.4.1->widgetsnbextension~=3.5.0->ipywidgets<8->fastbook) (2.3.1)\n",
      "Requirement already satisfied: webencodings in /Users/imf/opt/anaconda3/lib/python3.9/site-packages (from bleach->nbconvert>=5->notebook>=4.4.1->widgetsnbextension~=3.5.0->ipywidgets<8->fastbook) (0.5.1)\n",
      "Requirement already satisfied: pycparser in /Users/imf/opt/anaconda3/lib/python3.9/site-packages (from cffi>=1.0.1->argon2-cffi-bindings->argon2-cffi->notebook>=4.4.1->widgetsnbextension~=3.5.0->ipywidgets<8->fastbook) (2.21)\n",
      "Installing collected packages: xxhash, pyarrow, graphviz, dill, responses, multiprocess, datasets, fastbook\n",
      "  Attempting uninstall: dill\n",
      "    Found existing installation: dill 0.3.4\n",
      "    Uninstalling dill-0.3.4:\n",
      "      Successfully uninstalled dill-0.3.4\n",
      "Successfully installed datasets-2.12.0 dill-0.3.6 fastbook-0.0.29 graphviz-0.20.1 multiprocess-0.70.14 pyarrow-12.0.0 responses-0.18.0 xxhash-3.2.0\n"
     ]
    }
   ],
   "source": [
    "!pip install fastbook fastai"
   ]
  },
  {
   "cell_type": "code",
   "execution_count": 5,
   "id": "8fed4fe3",
   "metadata": {},
   "outputs": [],
   "source": [
    "#hide\n",
    "! [ -e /content ] && pip install -Uqq fastbook\n",
    "import fastbook\n",
    "fastbook.setup_book()\n",
    "from fastbook import *\n",
    "from fastai.vision.widgets import *"
   ]
  },
  {
   "cell_type": "code",
   "execution_count": 7,
   "id": "b6420cf3",
   "metadata": {},
   "outputs": [],
   "source": [
    "path = Path()\n",
    "learn_inf = load_learner(path/'bear-matcher.pkl')"
   ]
  },
  {
   "cell_type": "code",
   "execution_count": null,
   "id": "54e15c96",
   "metadata": {},
   "outputs": [],
   "source": []
  },
  {
   "cell_type": "code",
   "execution_count": 9,
   "id": "2e1f55db",
   "metadata": {},
   "outputs": [
    {
     "data": {
      "text/plain": [
       "['black', 'grizzly', 'teddy']"
      ]
     },
     "execution_count": 9,
     "metadata": {},
     "output_type": "execute_result"
    }
   ],
   "source": [
    "#learn_inf.dls.vocab"
   ]
  },
  {
   "cell_type": "code",
   "execution_count": 6,
   "id": "fee0bcc5",
   "metadata": {},
   "outputs": [
    {
     "data": {
      "application/vnd.jupyter.widget-view+json": {
       "model_id": "209afe060237447ca70331a72e6700c4",
       "version_major": 2,
       "version_minor": 0
      },
      "text/plain": [
       "FileUpload(value={}, description='Upload')"
      ]
     },
     "metadata": {},
     "output_type": "display_data"
    }
   ],
   "source": [
    "#hide_output\n",
    "btn_upload = widgets.FileUpload()\n",
    "btn_upload"
   ]
  },
  {
   "cell_type": "code",
   "execution_count": 10,
   "id": "5a2fc68b",
   "metadata": {},
   "outputs": [],
   "source": [
    "img = PILImage.create(btn_upload.data[-1])"
   ]
  },
  {
   "cell_type": "code",
   "execution_count": 11,
   "id": "310341c2",
   "metadata": {},
   "outputs": [
    {
     "data": {
      "application/vnd.jupyter.widget-view+json": {
       "model_id": "7b80c59e25f145a09458adbf98c27880",
       "version_major": 2,
       "version_minor": 0
      },
      "text/plain": [
       "Output()"
      ]
     },
     "metadata": {},
     "output_type": "display_data"
    }
   ],
   "source": [
    "#hide_output\n",
    "out_pl = widgets.Output()\n",
    "out_pl.clear_output()\n",
    "with out_pl: display(img.to_thumb(128,128))\n",
    "out_pl"
   ]
  },
  {
   "cell_type": "code",
   "execution_count": 12,
   "id": "992a2565",
   "metadata": {},
   "outputs": [
    {
     "data": {
      "text/html": [
       "\n",
       "<style>\n",
       "    /* Turns off some styling */\n",
       "    progress {\n",
       "        /* gets rid of default border in Firefox and Opera. */\n",
       "        border: none;\n",
       "        /* Needs to be in here for Safari polyfill so background images work as expected. */\n",
       "        background-size: auto;\n",
       "    }\n",
       "    progress:not([value]), progress:not([value])::-webkit-progress-bar {\n",
       "        background: repeating-linear-gradient(45deg, #7e7e7e, #7e7e7e 10px, #5c5c5c 10px, #5c5c5c 20px);\n",
       "    }\n",
       "    .progress-bar-interrupted, .progress-bar-interrupted::-webkit-progress-bar {\n",
       "        background: #F44336;\n",
       "    }\n",
       "</style>\n"
      ],
      "text/plain": [
       "<IPython.core.display.HTML object>"
      ]
     },
     "metadata": {},
     "output_type": "display_data"
    },
    {
     "data": {
      "text/html": [],
      "text/plain": [
       "<IPython.core.display.HTML object>"
      ]
     },
     "metadata": {},
     "output_type": "display_data"
    }
   ],
   "source": [
    "pred,pred_idx,probs = learn_inf.predict(img)"
   ]
  },
  {
   "cell_type": "code",
   "execution_count": 13,
   "id": "71fa13c6",
   "metadata": {},
   "outputs": [
    {
     "data": {
      "application/vnd.jupyter.widget-view+json": {
       "model_id": "2df9cb5a4fdd416c913fb8660228e305",
       "version_major": 2,
       "version_minor": 0
      },
      "text/plain": [
       "Label(value='Prediction: grizzly; Probability: 0.9999')"
      ]
     },
     "metadata": {},
     "output_type": "display_data"
    }
   ],
   "source": [
    "#hide_output\n",
    "lbl_pred = widgets.Label()\n",
    "lbl_pred.value = f'Prediction: {pred}; Probability: {probs[pred_idx]:.04f}'\n",
    "lbl_pred"
   ]
  },
  {
   "cell_type": "code",
   "execution_count": 14,
   "id": "de1e6c37",
   "metadata": {},
   "outputs": [
    {
     "data": {
      "application/vnd.jupyter.widget-view+json": {
       "model_id": "dc4780e739f74dff9ed793f32f45bb45",
       "version_major": 2,
       "version_minor": 0
      },
      "text/plain": [
       "Button(description='Classify', style=ButtonStyle())"
      ]
     },
     "metadata": {},
     "output_type": "display_data"
    }
   ],
   "source": [
    "#hide_output\n",
    "btn_run = widgets.Button(description='Classify')\n",
    "btn_run"
   ]
  },
  {
   "cell_type": "code",
   "execution_count": 15,
   "id": "a0efac63",
   "metadata": {},
   "outputs": [],
   "source": [
    "def on_click_classify(change):\n",
    "    img = PILImage.create(btn_upload.data[-1])\n",
    "    out_pl.clear_output()\n",
    "    with out_pl: display(img.to_thumb(128,128))\n",
    "    pred,pred_idx,probs = learn_inf.predict(img)\n",
    "    lbl_pred.value = f'Prediction: {pred}; Probability: {probs[pred_idx]:.04f}'\n",
    "\n",
    "btn_run.on_click(on_click_classify)"
   ]
  },
  {
   "cell_type": "code",
   "execution_count": 16,
   "id": "a4291b4d",
   "metadata": {},
   "outputs": [],
   "source": [
    "#hide\n",
    "#Putting back btn_upload to a widget for next cell\n",
    "btn_upload = widgets.FileUpload()"
   ]
  },
  {
   "cell_type": "code",
   "execution_count": 18,
   "id": "15f61a88",
   "metadata": {},
   "outputs": [
    {
     "data": {
      "application/vnd.jupyter.widget-view+json": {
       "model_id": "820d350ac95e44e394741c3e79b03116",
       "version_major": 2,
       "version_minor": 0
      },
      "text/plain": [
       "VBox(children=(Label(value='Select your bear!'), FileUpload(value={}, description='Upload'), Button(descriptio…"
      ]
     },
     "metadata": {},
     "output_type": "display_data"
    },
    {
     "data": {
      "text/html": [
       "\n",
       "<style>\n",
       "    /* Turns off some styling */\n",
       "    progress {\n",
       "        /* gets rid of default border in Firefox and Opera. */\n",
       "        border: none;\n",
       "        /* Needs to be in here for Safari polyfill so background images work as expected. */\n",
       "        background-size: auto;\n",
       "    }\n",
       "    progress:not([value]), progress:not([value])::-webkit-progress-bar {\n",
       "        background: repeating-linear-gradient(45deg, #7e7e7e, #7e7e7e 10px, #5c5c5c 10px, #5c5c5c 20px);\n",
       "    }\n",
       "    .progress-bar-interrupted, .progress-bar-interrupted::-webkit-progress-bar {\n",
       "        background: #F44336;\n",
       "    }\n",
       "</style>\n"
      ],
      "text/plain": [
       "<IPython.core.display.HTML object>"
      ]
     },
     "metadata": {},
     "output_type": "display_data"
    },
    {
     "data": {
      "text/html": [],
      "text/plain": [
       "<IPython.core.display.HTML object>"
      ]
     },
     "metadata": {},
     "output_type": "display_data"
    },
    {
     "data": {
      "text/html": [
       "\n",
       "<style>\n",
       "    /* Turns off some styling */\n",
       "    progress {\n",
       "        /* gets rid of default border in Firefox and Opera. */\n",
       "        border: none;\n",
       "        /* Needs to be in here for Safari polyfill so background images work as expected. */\n",
       "        background-size: auto;\n",
       "    }\n",
       "    progress:not([value]), progress:not([value])::-webkit-progress-bar {\n",
       "        background: repeating-linear-gradient(45deg, #7e7e7e, #7e7e7e 10px, #5c5c5c 10px, #5c5c5c 20px);\n",
       "    }\n",
       "    .progress-bar-interrupted, .progress-bar-interrupted::-webkit-progress-bar {\n",
       "        background: #F44336;\n",
       "    }\n",
       "</style>\n"
      ],
      "text/plain": [
       "<IPython.core.display.HTML object>"
      ]
     },
     "metadata": {},
     "output_type": "display_data"
    },
    {
     "data": {
      "text/html": [],
      "text/plain": [
       "<IPython.core.display.HTML object>"
      ]
     },
     "metadata": {},
     "output_type": "display_data"
    },
    {
     "data": {
      "text/html": [
       "\n",
       "<style>\n",
       "    /* Turns off some styling */\n",
       "    progress {\n",
       "        /* gets rid of default border in Firefox and Opera. */\n",
       "        border: none;\n",
       "        /* Needs to be in here for Safari polyfill so background images work as expected. */\n",
       "        background-size: auto;\n",
       "    }\n",
       "    progress:not([value]), progress:not([value])::-webkit-progress-bar {\n",
       "        background: repeating-linear-gradient(45deg, #7e7e7e, #7e7e7e 10px, #5c5c5c 10px, #5c5c5c 20px);\n",
       "    }\n",
       "    .progress-bar-interrupted, .progress-bar-interrupted::-webkit-progress-bar {\n",
       "        background: #F44336;\n",
       "    }\n",
       "</style>\n"
      ],
      "text/plain": [
       "<IPython.core.display.HTML object>"
      ]
     },
     "metadata": {},
     "output_type": "display_data"
    },
    {
     "data": {
      "text/html": [],
      "text/plain": [
       "<IPython.core.display.HTML object>"
      ]
     },
     "metadata": {},
     "output_type": "display_data"
    },
    {
     "data": {
      "text/html": [
       "\n",
       "<style>\n",
       "    /* Turns off some styling */\n",
       "    progress {\n",
       "        /* gets rid of default border in Firefox and Opera. */\n",
       "        border: none;\n",
       "        /* Needs to be in here for Safari polyfill so background images work as expected. */\n",
       "        background-size: auto;\n",
       "    }\n",
       "    progress:not([value]), progress:not([value])::-webkit-progress-bar {\n",
       "        background: repeating-linear-gradient(45deg, #7e7e7e, #7e7e7e 10px, #5c5c5c 10px, #5c5c5c 20px);\n",
       "    }\n",
       "    .progress-bar-interrupted, .progress-bar-interrupted::-webkit-progress-bar {\n",
       "        background: #F44336;\n",
       "    }\n",
       "</style>\n"
      ],
      "text/plain": [
       "<IPython.core.display.HTML object>"
      ]
     },
     "metadata": {},
     "output_type": "display_data"
    },
    {
     "data": {
      "text/html": [],
      "text/plain": [
       "<IPython.core.display.HTML object>"
      ]
     },
     "metadata": {},
     "output_type": "display_data"
    },
    {
     "data": {
      "text/html": [
       "\n",
       "<style>\n",
       "    /* Turns off some styling */\n",
       "    progress {\n",
       "        /* gets rid of default border in Firefox and Opera. */\n",
       "        border: none;\n",
       "        /* Needs to be in here for Safari polyfill so background images work as expected. */\n",
       "        background-size: auto;\n",
       "    }\n",
       "    progress:not([value]), progress:not([value])::-webkit-progress-bar {\n",
       "        background: repeating-linear-gradient(45deg, #7e7e7e, #7e7e7e 10px, #5c5c5c 10px, #5c5c5c 20px);\n",
       "    }\n",
       "    .progress-bar-interrupted, .progress-bar-interrupted::-webkit-progress-bar {\n",
       "        background: #F44336;\n",
       "    }\n",
       "</style>\n"
      ],
      "text/plain": [
       "<IPython.core.display.HTML object>"
      ]
     },
     "metadata": {},
     "output_type": "display_data"
    },
    {
     "data": {
      "text/html": [],
      "text/plain": [
       "<IPython.core.display.HTML object>"
      ]
     },
     "metadata": {},
     "output_type": "display_data"
    },
    {
     "data": {
      "text/html": [
       "\n",
       "<style>\n",
       "    /* Turns off some styling */\n",
       "    progress {\n",
       "        /* gets rid of default border in Firefox and Opera. */\n",
       "        border: none;\n",
       "        /* Needs to be in here for Safari polyfill so background images work as expected. */\n",
       "        background-size: auto;\n",
       "    }\n",
       "    progress:not([value]), progress:not([value])::-webkit-progress-bar {\n",
       "        background: repeating-linear-gradient(45deg, #7e7e7e, #7e7e7e 10px, #5c5c5c 10px, #5c5c5c 20px);\n",
       "    }\n",
       "    .progress-bar-interrupted, .progress-bar-interrupted::-webkit-progress-bar {\n",
       "        background: #F44336;\n",
       "    }\n",
       "</style>\n"
      ],
      "text/plain": [
       "<IPython.core.display.HTML object>"
      ]
     },
     "metadata": {},
     "output_type": "display_data"
    },
    {
     "data": {
      "text/html": [],
      "text/plain": [
       "<IPython.core.display.HTML object>"
      ]
     },
     "metadata": {},
     "output_type": "display_data"
    }
   ],
   "source": [
    "#hide_output\n",
    "VBox([widgets.Label('Select your bear!'), \n",
    "      btn_upload, btn_run, out_pl, lbl_pred])"
   ]
  },
  {
   "cell_type": "code",
   "execution_count": null,
   "id": "f688e000",
   "metadata": {},
   "outputs": [],
   "source": []
  }
 ],
 "metadata": {
  "kernelspec": {
   "display_name": "Python 3 (ipykernel)",
   "language": "python",
   "name": "python3"
  },
  "language_info": {
   "codemirror_mode": {
    "name": "ipython",
    "version": 3
   },
   "file_extension": ".py",
   "mimetype": "text/x-python",
   "name": "python",
   "nbconvert_exporter": "python",
   "pygments_lexer": "ipython3",
   "version": "3.9.13"
  }
 },
 "nbformat": 4,
 "nbformat_minor": 5
}
