{
 "cells": [
  {
   "cell_type": "markdown",
   "id": "5daf376b",
   "metadata": {},
   "source": [
    "The Bear Matcher\n",
    "==============\n",
    "It matches bears. Upload an image of a bear and it will tell you if it's a grizzly, a black bear, or a teddy bear. If it's none of these, it will find the 'closest' label for it. :)"
   ]
  },
  {
   "cell_type": "code",
   "execution_count": null,
   "id": "58038f80",
   "metadata": {},
   "outputs": [
    {
     "name": "stdout",
     "output_type": "stream",
     "text": [
      "Requirement already satisfied: fastbook in /Users/imf/opt/anaconda3/lib/python3.9/site-packages (0.0.29)\r\n",
      "Requirement already satisfied: fastai in /Users/imf/opt/anaconda3/lib/python3.9/site-packages (2.7.12)\r\n",
      "Requirement already satisfied: ipywidgets<8 in /Users/imf/opt/anaconda3/lib/python3.9/site-packages (from fastbook) (7.6.5)\r\n",
      "Requirement already satisfied: packaging in /Users/imf/opt/anaconda3/lib/python3.9/site-packages (from fastbook) (21.3)\r\n",
      "Requirement already satisfied: datasets in /Users/imf/opt/anaconda3/lib/python3.9/site-packages (from fastbook) (2.12.0)\r\n",
      "Requirement already satisfied: pip in /Users/imf/opt/anaconda3/lib/python3.9/site-packages (from fastbook) (22.2.2)\r\n",
      "Requirement already satisfied: graphviz in /Users/imf/opt/anaconda3/lib/python3.9/site-packages (from fastbook) (0.20.1)\r\n",
      "Requirement already satisfied: requests in /Users/imf/opt/anaconda3/lib/python3.9/site-packages (from fastbook) (2.31.0)\r\n",
      "Requirement already satisfied: pandas in /Users/imf/opt/anaconda3/lib/python3.9/site-packages (from fastbook) (1.4.4)\r\n",
      "Requirement already satisfied: sentencepiece in /Users/imf/opt/anaconda3/lib/python3.9/site-packages (from fastbook) (0.1.97)\r\n",
      "Requirement already satisfied: transformers in /Users/imf/opt/anaconda3/lib/python3.9/site-packages (from fastbook) (4.28.1)\r\n",
      "Requirement already satisfied: fastprogress>=0.2.4 in /Users/imf/opt/anaconda3/lib/python3.9/site-packages (from fastai) (1.0.3)\r\n",
      "Requirement already satisfied: scipy in /Users/imf/opt/anaconda3/lib/python3.9/site-packages (from fastai) (1.9.1)\r\n",
      "Requirement already satisfied: scikit-learn in /Users/imf/opt/anaconda3/lib/python3.9/site-packages (from fastai) (1.1.1)\r\n",
      "Requirement already satisfied: fastcore<1.6,>=1.5.29 in /Users/imf/opt/anaconda3/lib/python3.9/site-packages (from fastai) (1.5.29)\r\n",
      "Requirement already satisfied: torch<2.1,>=1.7 in /Users/imf/opt/anaconda3/lib/python3.9/site-packages (from fastai) (2.0.1)\r\n",
      "Requirement already satisfied: spacy<4 in /Users/imf/opt/anaconda3/lib/python3.9/site-packages (from fastai) (3.5.3)\r\n",
      "Requirement already satisfied: matplotlib in /Users/imf/opt/anaconda3/lib/python3.9/site-packages (from fastai) (3.5.2)\r\n",
      "Requirement already satisfied: fastdownload<2,>=0.0.5 in /Users/imf/opt/anaconda3/lib/python3.9/site-packages (from fastai) (0.0.7)\r\n",
      "Requirement already satisfied: pyyaml in /Users/imf/opt/anaconda3/lib/python3.9/site-packages (from fastai) (6.0)\r\n",
      "Requirement already satisfied: pillow>6.0.0 in /Users/imf/opt/anaconda3/lib/python3.9/site-packages (from fastai) (9.2.0)\r\n",
      "Requirement already satisfied: torchvision>=0.8.2 in /Users/imf/opt/anaconda3/lib/python3.9/site-packages (from fastai) (0.15.2)\r\n",
      "Requirement already satisfied: jupyterlab-widgets>=1.0.0 in /Users/imf/opt/anaconda3/lib/python3.9/site-packages (from ipywidgets<8->fastbook) (1.0.0)\r\n",
      "Requirement already satisfied: ipython>=4.0.0 in /Users/imf/opt/anaconda3/lib/python3.9/site-packages (from ipywidgets<8->fastbook) (8.4.0)\r\n",
      "Requirement already satisfied: ipython-genutils~=0.2.0 in /Users/imf/opt/anaconda3/lib/python3.9/site-packages (from ipywidgets<8->fastbook) (0.2.0)\r\n",
      "Requirement already satisfied: ipykernel>=4.5.1 in /Users/imf/opt/anaconda3/lib/python3.9/site-packages (from ipywidgets<8->fastbook) (6.15.2)\r\n",
      "Requirement already satisfied: nbformat>=4.2.0 in /Users/imf/opt/anaconda3/lib/python3.9/site-packages (from ipywidgets<8->fastbook) (5.5.0)\r\n",
      "Requirement already satisfied: traitlets>=4.3.1 in /Users/imf/opt/anaconda3/lib/python3.9/site-packages (from ipywidgets<8->fastbook) (5.1.1)\r\n",
      "Requirement already satisfied: widgetsnbextension~=3.5.0 in /Users/imf/opt/anaconda3/lib/python3.9/site-packages (from ipywidgets<8->fastbook) (3.5.2)\r\n"
     ]
    }
   ],
   "source": [
    "#hide\n",
    "!pip install fastbook fastai\n",
    "!pip install voila\n",
    "!jupyter serverextension enable --sys-prefix voila"
   ]
  },
  {
   "cell_type": "code",
   "execution_count": null,
   "id": "d08eca89",
   "metadata": {},
   "outputs": [],
   "source": [
    "#hide\n",
    "! [ -e /content ] && pip install -Uqq fastbook\n",
    "import fastbook\n",
    "fastbook.setup_book()\n",
    "from fastbook import *\n",
    "from fastai.vision.widgets import *"
   ]
  },
  {
   "cell_type": "code",
   "execution_count": null,
   "id": "09655f95",
   "metadata": {},
   "outputs": [],
   "source": [
    "path = Path()\n",
    "learn_inf = load_learner(path/'bear-matcher.pkl')"
   ]
  },
  {
   "cell_type": "code",
   "execution_count": null,
   "id": "023388e4",
   "metadata": {},
   "outputs": [],
   "source": [
    "#learn_inf.dls.vocab"
   ]
  },
  {
   "cell_type": "code",
   "execution_count": null,
   "id": "3f19a730",
   "metadata": {},
   "outputs": [],
   "source": [
    "#hide_output\n",
    "btn_upload = widgets.FileUpload()\n",
    "btn_upload"
   ]
  },
  {
   "cell_type": "code",
   "execution_count": null,
   "id": "b89d9ae5",
   "metadata": {},
   "outputs": [],
   "source": [
    "#img = PILImage.create(btn_upload.data[-1])\n",
    "img = PILImage.create(path/'images/broken.jpeg')"
   ]
  },
  {
   "cell_type": "code",
   "execution_count": null,
   "id": "98084e98",
   "metadata": {},
   "outputs": [],
   "source": [
    "#hide_output\n",
    "out_pl = widgets.Output()\n",
    "out_pl.clear_output()\n",
    "with out_pl: display(img.to_thumb(128,128))\n",
    "out_pl"
   ]
  },
  {
   "cell_type": "code",
   "execution_count": null,
   "id": "79a16991",
   "metadata": {},
   "outputs": [],
   "source": [
    "pred,pred_idx,probs = learn_inf.predict(img)"
   ]
  },
  {
   "cell_type": "code",
   "execution_count": null,
   "id": "5496dd47",
   "metadata": {},
   "outputs": [],
   "source": [
    "#hide_output\n",
    "lbl_pred = widgets.Label()\n",
    "lbl_pred.value = f'Prediction: {pred}; Probability: {probs[pred_idx]:.04f}'\n",
    "lbl_pred"
   ]
  },
  {
   "cell_type": "code",
   "execution_count": null,
   "id": "47f3ed5f",
   "metadata": {},
   "outputs": [],
   "source": [
    "#hide_output\n",
    "btn_run = widgets.Button(description='Classify')\n",
    "btn_run"
   ]
  },
  {
   "cell_type": "code",
   "execution_count": null,
   "id": "42721523",
   "metadata": {},
   "outputs": [],
   "source": [
    "def on_click_classify(change):\n",
    "    img = PILImage.create(btn_upload.data[-1])\n",
    "    out_pl.clear_output()\n",
    "    with out_pl: display(img.to_thumb(128,128))\n",
    "    pred,pred_idx,probs = learn_inf.predict(img)\n",
    "    lbl_pred.value = f'Prediction: {pred}; Probability: {probs[pred_idx]:.04f}'\n",
    "\n",
    "btn_run.on_click(on_click_classify)"
   ]
  },
  {
   "cell_type": "code",
   "execution_count": null,
   "id": "5f032f94",
   "metadata": {},
   "outputs": [],
   "source": [
    "#hide\n",
    "#Putting back btn_upload to a widget for next cell\n",
    "btn_upload = widgets.FileUpload()"
   ]
  },
  {
   "cell_type": "code",
   "execution_count": null,
   "id": "cbb1b2f5",
   "metadata": {},
   "outputs": [],
   "source": [
    "#hide_output\n",
    "VBox([widgets.Label('Select your bear!'), \n",
    "      btn_upload, btn_run, out_pl, lbl_pred])"
   ]
  }
 ],
 "metadata": {
  "kernelspec": {
   "display_name": "Python 3 (ipykernel)",
   "language": "python",
   "name": "python3"
  },
  "language_info": {
   "codemirror_mode": {
    "name": "ipython",
    "version": 3
   },
   "file_extension": ".py",
   "mimetype": "text/x-python",
   "name": "python",
   "nbconvert_exporter": "python",
   "pygments_lexer": "ipython3",
   "version": "3.9.13"
  }
 },
 "nbformat": 4,
 "nbformat_minor": 5
}
